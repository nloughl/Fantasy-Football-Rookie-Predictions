{
 "cells": [
  {
   "cell_type": "code",
   "execution_count": null,
   "id": "5f295691",
   "metadata": {},
   "outputs": [],
   "source": [
    "import pandas as pd\n",
    "import requests \n",
    "from bs4 import BeautifulSoup\n",
    "import string \n",
    "import time \n",
    "import nfl_data_py as nfl\n",
    "import re"
   ]
  },
  {
   "cell_type": "markdown",
   "id": "4eb560af",
   "metadata": {},
   "source": [
    "## Recommended data fields (per player)\n",
    "- Identity: `player_id`, `name`, `position`, `draft_year`\n",
    "- Draft capital: `draft_round`, `draft_pick_overall`, `team`\n",
    "- College production (final season + career): rushing/receiving/passing as appropriate\n",
    "- Context: `conference`, `age_on_draft_day`, `height_in`, `weight_lb`, `forty_yd`, etc.\n",
    "- NFL rookie outcomes (for training): rushing/receiving/passing/fumbles/INT, games played"
   ]
  },
  {
   "cell_type": "code",
   "execution_count": 46,
   "id": "a74dc814",
   "metadata": {},
   "outputs": [
    {
     "name": "stdout",
     "output_type": "stream",
     "text": [
      "Empty DataFrame\n",
      "Columns: [player_id, name, position, team, draft_year, draft_round, draft_pick_overall, age_on_draft_day, conference, conference_strength, height_in, weight_lb, forty_yd\n",
      "C_Games, C_Rec, C_RecYds, C_RecTD, C_RushAtt, C_RushYds, C_RushTD, C_PassAtt, C_PassYds, C_PassTD, C_INT\n",
      "Car_Games, Car_Rec, Car_RecYds, Car_RecTD, Car_RushAtt, Car_RushYds, Car_RushTD, Car_PassAtt, Car_PassYds, Car_PassTD, Car_INT\n",
      "Team_RecYds, Team_RecTD, Team_RushYds, Team_RushTD, Team_PassYds, Team_PassTD\n",
      "Rec, RecYds, RecTD, RushYds, RushTD, PassYds, PassTD, Fumbles, INT]\n",
      "Index: []\n",
      "\n",
      "[0 rows x 46 columns]\n"
     ]
    }
   ],
   "source": [
    "COLUMN_NAMES = [\"player_id\", \"name\", \"position\", \"team\", \"draft_year\", \"draft_round\", \"draft_pick_overall\", \"age_on_draft_day\", \"conference\", \"conference_strength\", \"height_in\", \"weight_lb\", \"forty_yd\\nC_Games\", \"C_Rec\", \"C_RecYds\", \"C_RecTD\", \"C_RushAtt\", \"C_RushYds\", \"C_RushTD\", \"C_PassAtt\", \"C_PassYds\", \"C_PassTD\", \"C_INT\\nCar_Games\", \"Car_Rec\", \"Car_RecYds\", \"Car_RecTD\", \"Car_RushAtt\", \"Car_RushYds\", \"Car_RushTD\", \"Car_PassAtt\", \"Car_PassYds\", \"Car_PassTD\", \"Car_INT\\nTeam_RecYds\", \"Team_RecTD\", \"Team_RushYds\", \"Team_RushTD\", \"Team_PassYds\", \"Team_PassTD\\nRec\", \"RecYds\", \"RecTD\", \"RushYds\", \"RushTD\", \"PassYds\", \"PassTD\", \"Fumbles\", \"INT\"]\n",
    "df = pd.DataFrame(columns=COLUMN_NAMES)\n",
    "print(df)"
   ]
  },
  {
   "cell_type": "markdown",
   "id": "9a927424",
   "metadata": {},
   "source": [
    "## Get Draft Data \n",
    "Download Excel files for the drafts of the last 5 years from https://www.pro-football-reference.com/\n",
    "\n",
    "These are the fields of the above datasets:\n",
    "- Rnd -- Round selected in draft\n",
    "- Supplemental draft round indicated with 'S'\n",
    "- Pick -- Overall Selection in Draft\n",
    "- Pos -- Position\n",
    "- Age -- Age as of September 1 of the draft year\n",
    "- To -- Last Year\n",
    "- Misc\n",
    "- AP1 -- First-team all-pro selections\n",
    "- PB -- Pro Bowl Selections\n",
    "- St -- Number of years as primary starter for his team at his position\n",
    "- Approx Val\n",
    "- wAV -- Weighted Career Approximate Value.\n",
    "- See the glossary for details on how we compute Approximate Value.\n",
    "- The career AV is computed by summing\n",
    "- 100 percent of the AV of his best season,\n",
    "- 95 percent of the AV of his next-best season,\n",
    "- 90 percent of the AV of his third-best season,\n",
    "- and so on\n",
    "- DrAV -- Weighted AV accumulated for team that drafted this player\n",
    "- Games\n",
    "- G -- Games played\n",
    "#### Passing\n",
    "- Cmp -- Passes completed\n",
    "- Att -- Passes attempted\n",
    "- Yds -- Yards Gained by Passing (For teams, sack yardage is deducted from this total)\n",
    "- TD -- Passing Touchdowns\n",
    "- Int -- Interceptions thrown\n",
    "#### Rushing\n",
    "- Att -- Rushing Attempts (sacks not included in NFL)\n",
    "- Yds -- Rushing Yards Gained (sack yardage is not included by NFL)\n",
    "- TD -- Rushing Touchdowns\n",
    "#### Receiving\n",
    "- Rec -- Receptions\n",
    "- Yds -- Receiving Yards\n",
    "- TD -- Receiving Touchdowns\n",
    "#### Tackles\n",
    "- Solo -- Tackles\n",
    "- Before 1994: unofficial and inconsistently recorded from team to team. For amusement only.\n",
    "- 1994-now: unofficial but consistently recorded.\n",
    "#### Def Interceptions\n",
    "- Int -- Passes intercepted on defense\n",
    "- Sk -- Sacks (official since 1982, based on play-by-play, game film, and other research since 1960)"
   ]
  },
  {
   "cell_type": "code",
   "execution_count": 62,
   "id": "f8be974a",
   "metadata": {},
   "outputs": [
    {
     "name": "stdout",
     "output_type": "stream",
     "text": [
      "1297\n",
      "   Rnd  Pick   Tm          Player Pos   Age      To  AP1   PB   St  ...  \\\n",
      "0  1.0   1.0  CIN      Joe Burrow  QB  23.0  2024.0  0.0  2.0  5.0  ...   \n",
      "1  1.0   2.0  WAS     Chase Young  DE  21.0  2024.0  0.0  1.0  1.0  ...   \n",
      "2  1.0   3.0  DET     Jeff Okudah  CB  21.0  2024.0  0.0  0.0  2.0  ...   \n",
      "3  1.0   4.0  NYG   Andrew Thomas   T  21.0  2024.0  0.0  0.0  5.0  ...   \n",
      "4  1.0   5.0  MIA  Tua Tagovailoa  QB  22.0  2024.0  0.0  1.0  5.0  ...   \n",
      "\n",
      "   Unnamed: 20  Receiving  Unnamed: 22  Unnamed: 23  Unnamed: 24  Unnamed: 25  \\\n",
      "0          NaN        NaN          NaN          NaN          NaN          NaN   \n",
      "1          NaN        NaN          NaN          NaN          NaN          NaN   \n",
      "2          NaN        NaN          NaN          NaN          NaN          NaN   \n",
      "3          NaN        NaN          NaN          NaN          NaN          NaN   \n",
      "4          NaN        NaN          NaN          NaN          NaN          NaN   \n",
      "\n",
      "   Unnamed: 26  Unnamed: 27  Unnamed: 28        url_name  \n",
      "0          NaN          NaN          NaN      joe-burrow  \n",
      "1          NaN          NaN          NaN     chase-young  \n",
      "2          NaN          NaN          NaN     jeff-okudah  \n",
      "3          NaN          NaN          NaN   andrew-thomas  \n",
      "4          NaN          NaN          NaN  tua-tagovailoa  \n",
      "\n",
      "[5 rows x 59 columns]\n"
     ]
    }
   ],
   "source": [
    "# Get Drafted College Football Players from the last 5 years \n",
    "\n",
    "df_2024 = pd.read_csv(\"2024_draft.csv\")\n",
    "df_2024[\"draft_year\"] = 2024\n",
    "df_2023 = pd.read_csv(\"2023_draft.csv\")\n",
    "df_2023[\"draft_year\"] = 2023\n",
    "df_2022 = pd.read_csv(\"2022_draft.csv\")\n",
    "df_2022[\"draft_year\"] = 2022\n",
    "df_2021 = pd.read_csv(\"2021.csv\")\n",
    "df_2021[\"draft_year\"] = 2021\n",
    "df_2020 = pd.read_csv(\"2020_draft.csv\")\n",
    "df_2020[\"draft_year\"] = 2020\n",
    "df_2019 = pd.read_csv(\"2019_draft.csv\")\n",
    "df_2019[\"draft_year\"] = 2019\n",
    "\n",
    "\n",
    "drafts_df = pd.concat([df_2020, df_2021, df_2022, df_2023, df_2024], axis=0)\n",
    "\n",
    "for name in drafts_df[\"Player\"]:\n",
    "    if isinstance(name, str):  # Only process if it's a string\n",
    "        clean_name = re.sub(r'[^\\w\\s-]', '', name.lower())  # remove punctuation \n",
    "        drafts_df.loc[drafts_df[\"Player\"] == name, \"url_name\"] = clean_name.replace(\" \", \"-\")\n",
    "\n",
    "print(len(drafts_df))\n",
    "print(drafts_df[:5])\n",
    "\n"
   ]
  },
  {
   "cell_type": "code",
   "execution_count": 63,
   "id": "968af97c",
   "metadata": {},
   "outputs": [
    {
     "name": "stdout",
     "output_type": "stream",
     "text": [
      "314\n"
     ]
    }
   ],
   "source": [
    "# Filter for relevant positions\n",
    "positions = ['QB', 'TE', 'WR', 'RB']\n",
    "\n",
    "drafts_df = drafts_df[drafts_df[\"Pos\"].isin(positions)]\n",
    "print(len(drafts_df))"
   ]
  },
  {
   "cell_type": "code",
   "execution_count": 64,
   "id": "180d5bf8",
   "metadata": {},
   "outputs": [
    {
     "name": "stdout",
     "output_type": "stream",
     "text": [
      "  player_id            name position team  draft_year  draft_round  \\\n",
      "0       NaN      Joe Burrow       QB  CIN        2020          1.0   \n",
      "4       NaN  Tua Tagovailoa       QB  MIA        2020          1.0   \n",
      "\n",
      "   draft_pick_overall  age_on_draft_day conference conference_strength  ...  \\\n",
      "0                 1.0              23.0        NaN                 NaN  ...   \n",
      "4                 5.0              22.0        NaN                 NaN  ...   \n",
      "\n",
      "  Team_PassYds Team_PassTD\\nRec RecYds RecTD RushYds RushTD PassYds PassTD  \\\n",
      "0          NaN              NaN    NaN   NaN     NaN    NaN     NaN    NaN   \n",
      "4          NaN              NaN    NaN   NaN     NaN    NaN     NaN    NaN   \n",
      "\n",
      "  Fumbles  INT  \n",
      "0     NaN  NaN  \n",
      "4     NaN  NaN  \n",
      "\n",
      "[2 rows x 46 columns]\n"
     ]
    }
   ],
   "source": [
    "# Add draft info to master df \n",
    "df[\"name\"], df[\"position\"], df[\"team\"], df[\"draft_year\"], df[\"draft_round\"], df[\"draft_pick_overall\"], df[\"age_on_draft_day\"] = drafts_df[\"Player\"], drafts_df[\"Pos\"], drafts_df[\"Tm\"], drafts_df[\"draft_year\"], drafts_df[\"Rnd\"], drafts_df[\"Pick\"], drafts_df[\"Age\"]\n",
    "print(df[:2])\n",
    "\n",
    "df[\"url_name\"] = drafts_df[\"url_name\"] # MAKE SURE ORDER and length OF NAMES IS THE SAME!\n"
   ]
  },
  {
   "cell_type": "markdown",
   "id": "8340464e",
   "metadata": {},
   "source": [
    "## College Football Stats"
   ]
  },
  {
   "cell_type": "code",
   "execution_count": 75,
   "id": "5a26e9f8",
   "metadata": {},
   "outputs": [],
   "source": [
    "def get_player_stats(player_names):\n",
    "    all_players_data = {}\n",
    "    for name in player_names:\n",
    "        found = False \n",
    "        for page in range(1,10): \n",
    "            url = f\"https://www.sports-reference.com/cfb/players/{name}-{page}.html\"\n",
    "            try:\n",
    "                response = requests.get(url)\n",
    "                if response.status_code == 200:\n",
    "                    print(f\"Found data for {name} at {url}\")\n",
    "                    soup = BeautifulSoup(response.text, \"html.parser\")\n",
    "\n",
    "                    # Get tables \n",
    "                    tables = pd.read_html(response.text)\n",
    "\n",
    "                    # Get height and weight\n",
    "                    body_metrics = {}\n",
    "                    paragraphs = soup.find_all(\"p\")\n",
    "                    for p in paragraphs:\n",
    "                        spans = p.find_all(\"span\")\n",
    "                        if len(spans) >= 2:  # first span = height, second span = weight\n",
    "                            feet, inches = map(int, spans[0].get_text().split(\"-\"))\n",
    "                            body_metrics[\"height\"] = feet * 12 + inches\n",
    "                            # Weight\n",
    "                            body_metrics[\"weight\"] = int(spans[1].get_text().replace(\"lb\", \"\").strip())\n",
    "                            break\n",
    "                    # There are mulitple tables per page, map them to their html ids\n",
    "                    table_map = {}\n",
    "                    for i, table in enumerate(soup.find_all(\"table\")):\n",
    "                        table_id = table.get(\"id\", f\"table_{i}\")\n",
    "                        table_map[table_id] = tables[i]\n",
    "\n",
    "                    # Filter only the tables we care about\n",
    "                    relevant_ids = [\"passing_standard\", \"receiving_standard\", \"punt_return_standard\"]\n",
    "                    player_tables = {tid: df for tid, df in table_map.items() if tid in relevant_ids}\n",
    "\n",
    "                    all_players_data[name] = {\n",
    "                        \"height_in\": body_metrics[\"height\"],\n",
    "                        \"weight_lb\": body_metrics[\"weight\"],\n",
    "                        \"tables\": player_tables\n",
    "                    }\n",
    "\n",
    "                    found = True\n",
    "                    break\n",
    "            except Exception as e:\n",
    "                print(f\"Error fetching {url}: {e}\")\n",
    "        if not found:\n",
    "            print(f\"No page found for {name}\")\n",
    "\n",
    "    return all_players_data "
   ]
  },
  {
   "cell_type": "code",
   "execution_count": 81,
   "id": "307a9109",
   "metadata": {},
   "outputs": [
    {
     "name": "stdout",
     "output_type": "stream",
     "text": [
      "Found data for joe-burrow at https://www.sports-reference.com/cfb/players/joe-burrow-1.html\n",
      "Error fetching https://www.sports-reference.com/cfb/players/joe-burrow-1.html: lxml not found, please install it\n",
      "No page found for joe-burrow\n",
      "Found data for tua-tagovailoa at https://www.sports-reference.com/cfb/players/tua-tagovailoa-1.html\n",
      "Error fetching https://www.sports-reference.com/cfb/players/tua-tagovailoa-1.html: lxml not found, please install it\n",
      "No page found for tua-tagovailoa\n",
      "Found data for justin-herbert at https://www.sports-reference.com/cfb/players/justin-herbert-1.html\n",
      "Error fetching https://www.sports-reference.com/cfb/players/justin-herbert-1.html: lxml not found, please install it\n"
     ]
    },
    {
     "ename": "KeyboardInterrupt",
     "evalue": "",
     "output_type": "error",
     "traceback": [
      "\u001b[31m---------------------------------------------------------------------------\u001b[39m",
      "\u001b[31mKeyboardInterrupt\u001b[39m                         Traceback (most recent call last)",
      "\u001b[36mCell\u001b[39m\u001b[36m \u001b[39m\u001b[32mIn[81]\u001b[39m\u001b[32m, line 2\u001b[39m\n\u001b[32m      1\u001b[39m player_names = df[\u001b[33m\"\u001b[39m\u001b[33murl_name\u001b[39m\u001b[33m\"\u001b[39m]\n\u001b[32m----> \u001b[39m\u001b[32m2\u001b[39m college_stats = \u001b[43mget_player_stats\u001b[49m\u001b[43m(\u001b[49m\u001b[43mplayer_names\u001b[49m\u001b[43m)\u001b[49m\n\u001b[32m      3\u001b[39m \u001b[38;5;28mprint\u001b[39m(college_stats[\u001b[33m\"\u001b[39m\u001b[33mbryce-young\u001b[39m\u001b[33m\"\u001b[39m][\u001b[33m\"\u001b[39m\u001b[33mtables\u001b[39m\u001b[33m\"\u001b[39m][\u001b[33m\"\u001b[39m\u001b[33mpassing_standard\u001b[39m\u001b[33m\"\u001b[39m].head())\n\u001b[32m      4\u001b[39m \u001b[38;5;28mprint\u001b[39m(college_stats[\u001b[33m\"\u001b[39m\u001b[33mbryce-young\u001b[39m\u001b[33m\"\u001b[39m][\u001b[33m\"\u001b[39m\u001b[33mheight_in\u001b[39m\u001b[33m\"\u001b[39m])\n",
      "\u001b[36mCell\u001b[39m\u001b[36m \u001b[39m\u001b[32mIn[75]\u001b[39m\u001b[32m, line 8\u001b[39m, in \u001b[36mget_player_stats\u001b[39m\u001b[34m(player_names)\u001b[39m\n\u001b[32m      6\u001b[39m url = \u001b[33mf\u001b[39m\u001b[33m\"\u001b[39m\u001b[33mhttps://www.sports-reference.com/cfb/players/\u001b[39m\u001b[38;5;132;01m{\u001b[39;00mname\u001b[38;5;132;01m}\u001b[39;00m\u001b[33m-\u001b[39m\u001b[38;5;132;01m{\u001b[39;00mpage\u001b[38;5;132;01m}\u001b[39;00m\u001b[33m.html\u001b[39m\u001b[33m\"\u001b[39m\n\u001b[32m      7\u001b[39m \u001b[38;5;28;01mtry\u001b[39;00m:\n\u001b[32m----> \u001b[39m\u001b[32m8\u001b[39m     response = \u001b[43mrequests\u001b[49m\u001b[43m.\u001b[49m\u001b[43mget\u001b[49m\u001b[43m(\u001b[49m\u001b[43murl\u001b[49m\u001b[43m)\u001b[49m\n\u001b[32m      9\u001b[39m     \u001b[38;5;28;01mif\u001b[39;00m response.status_code == \u001b[32m200\u001b[39m:\n\u001b[32m     10\u001b[39m         \u001b[38;5;28mprint\u001b[39m(\u001b[33mf\u001b[39m\u001b[33m\"\u001b[39m\u001b[33mFound data for \u001b[39m\u001b[38;5;132;01m{\u001b[39;00mname\u001b[38;5;132;01m}\u001b[39;00m\u001b[33m at \u001b[39m\u001b[38;5;132;01m{\u001b[39;00murl\u001b[38;5;132;01m}\u001b[39;00m\u001b[33m\"\u001b[39m)\n",
      "\u001b[36mFile \u001b[39m\u001b[32mc:\\Users\\nloug\\OneDrive - University of Waterloo\\Fantasy_football_name_generation\\Rookie_fantasy_prediction\\Fantasy-Football-Rookie-Predictions\\nfl_env\\Lib\\site-packages\\requests\\api.py:73\u001b[39m, in \u001b[36mget\u001b[39m\u001b[34m(url, params, **kwargs)\u001b[39m\n\u001b[32m     62\u001b[39m \u001b[38;5;28;01mdef\u001b[39;00m\u001b[38;5;250m \u001b[39m\u001b[34mget\u001b[39m(url, params=\u001b[38;5;28;01mNone\u001b[39;00m, **kwargs):\n\u001b[32m     63\u001b[39m \u001b[38;5;250m    \u001b[39m\u001b[33mr\u001b[39m\u001b[33;03m\"\"\"Sends a GET request.\u001b[39;00m\n\u001b[32m     64\u001b[39m \n\u001b[32m     65\u001b[39m \u001b[33;03m    :param url: URL for the new :class:`Request` object.\u001b[39;00m\n\u001b[32m   (...)\u001b[39m\u001b[32m     70\u001b[39m \u001b[33;03m    :rtype: requests.Response\u001b[39;00m\n\u001b[32m     71\u001b[39m \u001b[33;03m    \"\"\"\u001b[39;00m\n\u001b[32m---> \u001b[39m\u001b[32m73\u001b[39m     \u001b[38;5;28;01mreturn\u001b[39;00m \u001b[43mrequest\u001b[49m\u001b[43m(\u001b[49m\u001b[33;43m\"\u001b[39;49m\u001b[33;43mget\u001b[39;49m\u001b[33;43m\"\u001b[39;49m\u001b[43m,\u001b[49m\u001b[43m \u001b[49m\u001b[43murl\u001b[49m\u001b[43m,\u001b[49m\u001b[43m \u001b[49m\u001b[43mparams\u001b[49m\u001b[43m=\u001b[49m\u001b[43mparams\u001b[49m\u001b[43m,\u001b[49m\u001b[43m \u001b[49m\u001b[43m*\u001b[49m\u001b[43m*\u001b[49m\u001b[43mkwargs\u001b[49m\u001b[43m)\u001b[49m\n",
      "\u001b[36mFile \u001b[39m\u001b[32mc:\\Users\\nloug\\OneDrive - University of Waterloo\\Fantasy_football_name_generation\\Rookie_fantasy_prediction\\Fantasy-Football-Rookie-Predictions\\nfl_env\\Lib\\site-packages\\requests\\api.py:59\u001b[39m, in \u001b[36mrequest\u001b[39m\u001b[34m(method, url, **kwargs)\u001b[39m\n\u001b[32m     55\u001b[39m \u001b[38;5;66;03m# By using the 'with' statement we are sure the session is closed, thus we\u001b[39;00m\n\u001b[32m     56\u001b[39m \u001b[38;5;66;03m# avoid leaving sockets open which can trigger a ResourceWarning in some\u001b[39;00m\n\u001b[32m     57\u001b[39m \u001b[38;5;66;03m# cases, and look like a memory leak in others.\u001b[39;00m\n\u001b[32m     58\u001b[39m \u001b[38;5;28;01mwith\u001b[39;00m sessions.Session() \u001b[38;5;28;01mas\u001b[39;00m session:\n\u001b[32m---> \u001b[39m\u001b[32m59\u001b[39m     \u001b[38;5;28;01mreturn\u001b[39;00m \u001b[43msession\u001b[49m\u001b[43m.\u001b[49m\u001b[43mrequest\u001b[49m\u001b[43m(\u001b[49m\u001b[43mmethod\u001b[49m\u001b[43m=\u001b[49m\u001b[43mmethod\u001b[49m\u001b[43m,\u001b[49m\u001b[43m \u001b[49m\u001b[43murl\u001b[49m\u001b[43m=\u001b[49m\u001b[43murl\u001b[49m\u001b[43m,\u001b[49m\u001b[43m \u001b[49m\u001b[43m*\u001b[49m\u001b[43m*\u001b[49m\u001b[43mkwargs\u001b[49m\u001b[43m)\u001b[49m\n",
      "\u001b[36mFile \u001b[39m\u001b[32mc:\\Users\\nloug\\OneDrive - University of Waterloo\\Fantasy_football_name_generation\\Rookie_fantasy_prediction\\Fantasy-Football-Rookie-Predictions\\nfl_env\\Lib\\site-packages\\requests\\sessions.py:589\u001b[39m, in \u001b[36mSession.request\u001b[39m\u001b[34m(self, method, url, params, data, headers, cookies, files, auth, timeout, allow_redirects, proxies, hooks, stream, verify, cert, json)\u001b[39m\n\u001b[32m    584\u001b[39m send_kwargs = {\n\u001b[32m    585\u001b[39m     \u001b[33m\"\u001b[39m\u001b[33mtimeout\u001b[39m\u001b[33m\"\u001b[39m: timeout,\n\u001b[32m    586\u001b[39m     \u001b[33m\"\u001b[39m\u001b[33mallow_redirects\u001b[39m\u001b[33m\"\u001b[39m: allow_redirects,\n\u001b[32m    587\u001b[39m }\n\u001b[32m    588\u001b[39m send_kwargs.update(settings)\n\u001b[32m--> \u001b[39m\u001b[32m589\u001b[39m resp = \u001b[38;5;28;43mself\u001b[39;49m\u001b[43m.\u001b[49m\u001b[43msend\u001b[49m\u001b[43m(\u001b[49m\u001b[43mprep\u001b[49m\u001b[43m,\u001b[49m\u001b[43m \u001b[49m\u001b[43m*\u001b[49m\u001b[43m*\u001b[49m\u001b[43msend_kwargs\u001b[49m\u001b[43m)\u001b[49m\n\u001b[32m    591\u001b[39m \u001b[38;5;28;01mreturn\u001b[39;00m resp\n",
      "\u001b[36mFile \u001b[39m\u001b[32mc:\\Users\\nloug\\OneDrive - University of Waterloo\\Fantasy_football_name_generation\\Rookie_fantasy_prediction\\Fantasy-Football-Rookie-Predictions\\nfl_env\\Lib\\site-packages\\requests\\sessions.py:703\u001b[39m, in \u001b[36mSession.send\u001b[39m\u001b[34m(self, request, **kwargs)\u001b[39m\n\u001b[32m    700\u001b[39m start = preferred_clock()\n\u001b[32m    702\u001b[39m \u001b[38;5;66;03m# Send the request\u001b[39;00m\n\u001b[32m--> \u001b[39m\u001b[32m703\u001b[39m r = \u001b[43madapter\u001b[49m\u001b[43m.\u001b[49m\u001b[43msend\u001b[49m\u001b[43m(\u001b[49m\u001b[43mrequest\u001b[49m\u001b[43m,\u001b[49m\u001b[43m \u001b[49m\u001b[43m*\u001b[49m\u001b[43m*\u001b[49m\u001b[43mkwargs\u001b[49m\u001b[43m)\u001b[49m\n\u001b[32m    705\u001b[39m \u001b[38;5;66;03m# Total elapsed time of the request (approximately)\u001b[39;00m\n\u001b[32m    706\u001b[39m elapsed = preferred_clock() - start\n",
      "\u001b[36mFile \u001b[39m\u001b[32mc:\\Users\\nloug\\OneDrive - University of Waterloo\\Fantasy_football_name_generation\\Rookie_fantasy_prediction\\Fantasy-Football-Rookie-Predictions\\nfl_env\\Lib\\site-packages\\requests\\adapters.py:644\u001b[39m, in \u001b[36mHTTPAdapter.send\u001b[39m\u001b[34m(self, request, stream, timeout, verify, cert, proxies)\u001b[39m\n\u001b[32m    641\u001b[39m     timeout = TimeoutSauce(connect=timeout, read=timeout)\n\u001b[32m    643\u001b[39m \u001b[38;5;28;01mtry\u001b[39;00m:\n\u001b[32m--> \u001b[39m\u001b[32m644\u001b[39m     resp = \u001b[43mconn\u001b[49m\u001b[43m.\u001b[49m\u001b[43murlopen\u001b[49m\u001b[43m(\u001b[49m\n\u001b[32m    645\u001b[39m \u001b[43m        \u001b[49m\u001b[43mmethod\u001b[49m\u001b[43m=\u001b[49m\u001b[43mrequest\u001b[49m\u001b[43m.\u001b[49m\u001b[43mmethod\u001b[49m\u001b[43m,\u001b[49m\n\u001b[32m    646\u001b[39m \u001b[43m        \u001b[49m\u001b[43murl\u001b[49m\u001b[43m=\u001b[49m\u001b[43murl\u001b[49m\u001b[43m,\u001b[49m\n\u001b[32m    647\u001b[39m \u001b[43m        \u001b[49m\u001b[43mbody\u001b[49m\u001b[43m=\u001b[49m\u001b[43mrequest\u001b[49m\u001b[43m.\u001b[49m\u001b[43mbody\u001b[49m\u001b[43m,\u001b[49m\n\u001b[32m    648\u001b[39m \u001b[43m        \u001b[49m\u001b[43mheaders\u001b[49m\u001b[43m=\u001b[49m\u001b[43mrequest\u001b[49m\u001b[43m.\u001b[49m\u001b[43mheaders\u001b[49m\u001b[43m,\u001b[49m\n\u001b[32m    649\u001b[39m \u001b[43m        \u001b[49m\u001b[43mredirect\u001b[49m\u001b[43m=\u001b[49m\u001b[38;5;28;43;01mFalse\u001b[39;49;00m\u001b[43m,\u001b[49m\n\u001b[32m    650\u001b[39m \u001b[43m        \u001b[49m\u001b[43massert_same_host\u001b[49m\u001b[43m=\u001b[49m\u001b[38;5;28;43;01mFalse\u001b[39;49;00m\u001b[43m,\u001b[49m\n\u001b[32m    651\u001b[39m \u001b[43m        \u001b[49m\u001b[43mpreload_content\u001b[49m\u001b[43m=\u001b[49m\u001b[38;5;28;43;01mFalse\u001b[39;49;00m\u001b[43m,\u001b[49m\n\u001b[32m    652\u001b[39m \u001b[43m        \u001b[49m\u001b[43mdecode_content\u001b[49m\u001b[43m=\u001b[49m\u001b[38;5;28;43;01mFalse\u001b[39;49;00m\u001b[43m,\u001b[49m\n\u001b[32m    653\u001b[39m \u001b[43m        \u001b[49m\u001b[43mretries\u001b[49m\u001b[43m=\u001b[49m\u001b[38;5;28;43mself\u001b[39;49m\u001b[43m.\u001b[49m\u001b[43mmax_retries\u001b[49m\u001b[43m,\u001b[49m\n\u001b[32m    654\u001b[39m \u001b[43m        \u001b[49m\u001b[43mtimeout\u001b[49m\u001b[43m=\u001b[49m\u001b[43mtimeout\u001b[49m\u001b[43m,\u001b[49m\n\u001b[32m    655\u001b[39m \u001b[43m        \u001b[49m\u001b[43mchunked\u001b[49m\u001b[43m=\u001b[49m\u001b[43mchunked\u001b[49m\u001b[43m,\u001b[49m\n\u001b[32m    656\u001b[39m \u001b[43m    \u001b[49m\u001b[43m)\u001b[49m\n\u001b[32m    658\u001b[39m \u001b[38;5;28;01mexcept\u001b[39;00m (ProtocolError, \u001b[38;5;167;01mOSError\u001b[39;00m) \u001b[38;5;28;01mas\u001b[39;00m err:\n\u001b[32m    659\u001b[39m     \u001b[38;5;28;01mraise\u001b[39;00m \u001b[38;5;167;01mConnectionError\u001b[39;00m(err, request=request)\n",
      "\u001b[36mFile \u001b[39m\u001b[32mc:\\Users\\nloug\\OneDrive - University of Waterloo\\Fantasy_football_name_generation\\Rookie_fantasy_prediction\\Fantasy-Football-Rookie-Predictions\\nfl_env\\Lib\\site-packages\\urllib3\\connectionpool.py:787\u001b[39m, in \u001b[36mHTTPConnectionPool.urlopen\u001b[39m\u001b[34m(self, method, url, body, headers, retries, redirect, assert_same_host, timeout, pool_timeout, release_conn, chunked, body_pos, preload_content, decode_content, **response_kw)\u001b[39m\n\u001b[32m    784\u001b[39m response_conn = conn \u001b[38;5;28;01mif\u001b[39;00m \u001b[38;5;129;01mnot\u001b[39;00m release_conn \u001b[38;5;28;01melse\u001b[39;00m \u001b[38;5;28;01mNone\u001b[39;00m\n\u001b[32m    786\u001b[39m \u001b[38;5;66;03m# Make the request on the HTTPConnection object\u001b[39;00m\n\u001b[32m--> \u001b[39m\u001b[32m787\u001b[39m response = \u001b[38;5;28;43mself\u001b[39;49m\u001b[43m.\u001b[49m\u001b[43m_make_request\u001b[49m\u001b[43m(\u001b[49m\n\u001b[32m    788\u001b[39m \u001b[43m    \u001b[49m\u001b[43mconn\u001b[49m\u001b[43m,\u001b[49m\n\u001b[32m    789\u001b[39m \u001b[43m    \u001b[49m\u001b[43mmethod\u001b[49m\u001b[43m,\u001b[49m\n\u001b[32m    790\u001b[39m \u001b[43m    \u001b[49m\u001b[43murl\u001b[49m\u001b[43m,\u001b[49m\n\u001b[32m    791\u001b[39m \u001b[43m    \u001b[49m\u001b[43mtimeout\u001b[49m\u001b[43m=\u001b[49m\u001b[43mtimeout_obj\u001b[49m\u001b[43m,\u001b[49m\n\u001b[32m    792\u001b[39m \u001b[43m    \u001b[49m\u001b[43mbody\u001b[49m\u001b[43m=\u001b[49m\u001b[43mbody\u001b[49m\u001b[43m,\u001b[49m\n\u001b[32m    793\u001b[39m \u001b[43m    \u001b[49m\u001b[43mheaders\u001b[49m\u001b[43m=\u001b[49m\u001b[43mheaders\u001b[49m\u001b[43m,\u001b[49m\n\u001b[32m    794\u001b[39m \u001b[43m    \u001b[49m\u001b[43mchunked\u001b[49m\u001b[43m=\u001b[49m\u001b[43mchunked\u001b[49m\u001b[43m,\u001b[49m\n\u001b[32m    795\u001b[39m \u001b[43m    \u001b[49m\u001b[43mretries\u001b[49m\u001b[43m=\u001b[49m\u001b[43mretries\u001b[49m\u001b[43m,\u001b[49m\n\u001b[32m    796\u001b[39m \u001b[43m    \u001b[49m\u001b[43mresponse_conn\u001b[49m\u001b[43m=\u001b[49m\u001b[43mresponse_conn\u001b[49m\u001b[43m,\u001b[49m\n\u001b[32m    797\u001b[39m \u001b[43m    \u001b[49m\u001b[43mpreload_content\u001b[49m\u001b[43m=\u001b[49m\u001b[43mpreload_content\u001b[49m\u001b[43m,\u001b[49m\n\u001b[32m    798\u001b[39m \u001b[43m    \u001b[49m\u001b[43mdecode_content\u001b[49m\u001b[43m=\u001b[49m\u001b[43mdecode_content\u001b[49m\u001b[43m,\u001b[49m\n\u001b[32m    799\u001b[39m \u001b[43m    \u001b[49m\u001b[43m*\u001b[49m\u001b[43m*\u001b[49m\u001b[43mresponse_kw\u001b[49m\u001b[43m,\u001b[49m\n\u001b[32m    800\u001b[39m \u001b[43m\u001b[49m\u001b[43m)\u001b[49m\n\u001b[32m    802\u001b[39m \u001b[38;5;66;03m# Everything went great!\u001b[39;00m\n\u001b[32m    803\u001b[39m clean_exit = \u001b[38;5;28;01mTrue\u001b[39;00m\n",
      "\u001b[36mFile \u001b[39m\u001b[32mc:\\Users\\nloug\\OneDrive - University of Waterloo\\Fantasy_football_name_generation\\Rookie_fantasy_prediction\\Fantasy-Football-Rookie-Predictions\\nfl_env\\Lib\\site-packages\\urllib3\\connectionpool.py:464\u001b[39m, in \u001b[36mHTTPConnectionPool._make_request\u001b[39m\u001b[34m(self, conn, method, url, body, headers, retries, timeout, chunked, response_conn, preload_content, decode_content, enforce_content_length)\u001b[39m\n\u001b[32m    461\u001b[39m \u001b[38;5;28;01mtry\u001b[39;00m:\n\u001b[32m    462\u001b[39m     \u001b[38;5;66;03m# Trigger any extra validation we need to do.\u001b[39;00m\n\u001b[32m    463\u001b[39m     \u001b[38;5;28;01mtry\u001b[39;00m:\n\u001b[32m--> \u001b[39m\u001b[32m464\u001b[39m         \u001b[38;5;28;43mself\u001b[39;49m\u001b[43m.\u001b[49m\u001b[43m_validate_conn\u001b[49m\u001b[43m(\u001b[49m\u001b[43mconn\u001b[49m\u001b[43m)\u001b[49m\n\u001b[32m    465\u001b[39m     \u001b[38;5;28;01mexcept\u001b[39;00m (SocketTimeout, BaseSSLError) \u001b[38;5;28;01mas\u001b[39;00m e:\n\u001b[32m    466\u001b[39m         \u001b[38;5;28mself\u001b[39m._raise_timeout(err=e, url=url, timeout_value=conn.timeout)\n",
      "\u001b[36mFile \u001b[39m\u001b[32mc:\\Users\\nloug\\OneDrive - University of Waterloo\\Fantasy_football_name_generation\\Rookie_fantasy_prediction\\Fantasy-Football-Rookie-Predictions\\nfl_env\\Lib\\site-packages\\urllib3\\connectionpool.py:1093\u001b[39m, in \u001b[36mHTTPSConnectionPool._validate_conn\u001b[39m\u001b[34m(self, conn)\u001b[39m\n\u001b[32m   1091\u001b[39m \u001b[38;5;66;03m# Force connect early to allow us to validate the connection.\u001b[39;00m\n\u001b[32m   1092\u001b[39m \u001b[38;5;28;01mif\u001b[39;00m conn.is_closed:\n\u001b[32m-> \u001b[39m\u001b[32m1093\u001b[39m     \u001b[43mconn\u001b[49m\u001b[43m.\u001b[49m\u001b[43mconnect\u001b[49m\u001b[43m(\u001b[49m\u001b[43m)\u001b[49m\n\u001b[32m   1095\u001b[39m \u001b[38;5;66;03m# TODO revise this, see https://github.com/urllib3/urllib3/issues/2791\u001b[39;00m\n\u001b[32m   1096\u001b[39m \u001b[38;5;28;01mif\u001b[39;00m \u001b[38;5;129;01mnot\u001b[39;00m conn.is_verified \u001b[38;5;129;01mand\u001b[39;00m \u001b[38;5;129;01mnot\u001b[39;00m conn.proxy_is_verified:\n",
      "\u001b[36mFile \u001b[39m\u001b[32mc:\\Users\\nloug\\OneDrive - University of Waterloo\\Fantasy_football_name_generation\\Rookie_fantasy_prediction\\Fantasy-Football-Rookie-Predictions\\nfl_env\\Lib\\site-packages\\urllib3\\connection.py:790\u001b[39m, in \u001b[36mHTTPSConnection.connect\u001b[39m\u001b[34m(self)\u001b[39m\n\u001b[32m    787\u001b[39m     \u001b[38;5;66;03m# Remove trailing '.' from fqdn hostnames to allow certificate validation\u001b[39;00m\n\u001b[32m    788\u001b[39m     server_hostname_rm_dot = server_hostname.rstrip(\u001b[33m\"\u001b[39m\u001b[33m.\u001b[39m\u001b[33m\"\u001b[39m)\n\u001b[32m--> \u001b[39m\u001b[32m790\u001b[39m     sock_and_verified = \u001b[43m_ssl_wrap_socket_and_match_hostname\u001b[49m\u001b[43m(\u001b[49m\n\u001b[32m    791\u001b[39m \u001b[43m        \u001b[49m\u001b[43msock\u001b[49m\u001b[43m=\u001b[49m\u001b[43msock\u001b[49m\u001b[43m,\u001b[49m\n\u001b[32m    792\u001b[39m \u001b[43m        \u001b[49m\u001b[43mcert_reqs\u001b[49m\u001b[43m=\u001b[49m\u001b[38;5;28;43mself\u001b[39;49m\u001b[43m.\u001b[49m\u001b[43mcert_reqs\u001b[49m\u001b[43m,\u001b[49m\n\u001b[32m    793\u001b[39m \u001b[43m        \u001b[49m\u001b[43mssl_version\u001b[49m\u001b[43m=\u001b[49m\u001b[38;5;28;43mself\u001b[39;49m\u001b[43m.\u001b[49m\u001b[43mssl_version\u001b[49m\u001b[43m,\u001b[49m\n\u001b[32m    794\u001b[39m \u001b[43m        \u001b[49m\u001b[43mssl_minimum_version\u001b[49m\u001b[43m=\u001b[49m\u001b[38;5;28;43mself\u001b[39;49m\u001b[43m.\u001b[49m\u001b[43mssl_minimum_version\u001b[49m\u001b[43m,\u001b[49m\n\u001b[32m    795\u001b[39m \u001b[43m        \u001b[49m\u001b[43mssl_maximum_version\u001b[49m\u001b[43m=\u001b[49m\u001b[38;5;28;43mself\u001b[39;49m\u001b[43m.\u001b[49m\u001b[43mssl_maximum_version\u001b[49m\u001b[43m,\u001b[49m\n\u001b[32m    796\u001b[39m \u001b[43m        \u001b[49m\u001b[43mca_certs\u001b[49m\u001b[43m=\u001b[49m\u001b[38;5;28;43mself\u001b[39;49m\u001b[43m.\u001b[49m\u001b[43mca_certs\u001b[49m\u001b[43m,\u001b[49m\n\u001b[32m    797\u001b[39m \u001b[43m        \u001b[49m\u001b[43mca_cert_dir\u001b[49m\u001b[43m=\u001b[49m\u001b[38;5;28;43mself\u001b[39;49m\u001b[43m.\u001b[49m\u001b[43mca_cert_dir\u001b[49m\u001b[43m,\u001b[49m\n\u001b[32m    798\u001b[39m \u001b[43m        \u001b[49m\u001b[43mca_cert_data\u001b[49m\u001b[43m=\u001b[49m\u001b[38;5;28;43mself\u001b[39;49m\u001b[43m.\u001b[49m\u001b[43mca_cert_data\u001b[49m\u001b[43m,\u001b[49m\n\u001b[32m    799\u001b[39m \u001b[43m        \u001b[49m\u001b[43mcert_file\u001b[49m\u001b[43m=\u001b[49m\u001b[38;5;28;43mself\u001b[39;49m\u001b[43m.\u001b[49m\u001b[43mcert_file\u001b[49m\u001b[43m,\u001b[49m\n\u001b[32m    800\u001b[39m \u001b[43m        \u001b[49m\u001b[43mkey_file\u001b[49m\u001b[43m=\u001b[49m\u001b[38;5;28;43mself\u001b[39;49m\u001b[43m.\u001b[49m\u001b[43mkey_file\u001b[49m\u001b[43m,\u001b[49m\n\u001b[32m    801\u001b[39m \u001b[43m        \u001b[49m\u001b[43mkey_password\u001b[49m\u001b[43m=\u001b[49m\u001b[38;5;28;43mself\u001b[39;49m\u001b[43m.\u001b[49m\u001b[43mkey_password\u001b[49m\u001b[43m,\u001b[49m\n\u001b[32m    802\u001b[39m \u001b[43m        \u001b[49m\u001b[43mserver_hostname\u001b[49m\u001b[43m=\u001b[49m\u001b[43mserver_hostname_rm_dot\u001b[49m\u001b[43m,\u001b[49m\n\u001b[32m    803\u001b[39m \u001b[43m        \u001b[49m\u001b[43mssl_context\u001b[49m\u001b[43m=\u001b[49m\u001b[38;5;28;43mself\u001b[39;49m\u001b[43m.\u001b[49m\u001b[43mssl_context\u001b[49m\u001b[43m,\u001b[49m\n\u001b[32m    804\u001b[39m \u001b[43m        \u001b[49m\u001b[43mtls_in_tls\u001b[49m\u001b[43m=\u001b[49m\u001b[43mtls_in_tls\u001b[49m\u001b[43m,\u001b[49m\n\u001b[32m    805\u001b[39m \u001b[43m        \u001b[49m\u001b[43massert_hostname\u001b[49m\u001b[43m=\u001b[49m\u001b[38;5;28;43mself\u001b[39;49m\u001b[43m.\u001b[49m\u001b[43massert_hostname\u001b[49m\u001b[43m,\u001b[49m\n\u001b[32m    806\u001b[39m \u001b[43m        \u001b[49m\u001b[43massert_fingerprint\u001b[49m\u001b[43m=\u001b[49m\u001b[38;5;28;43mself\u001b[39;49m\u001b[43m.\u001b[49m\u001b[43massert_fingerprint\u001b[49m\u001b[43m,\u001b[49m\n\u001b[32m    807\u001b[39m \u001b[43m    \u001b[49m\u001b[43m)\u001b[49m\n\u001b[32m    808\u001b[39m     \u001b[38;5;28mself\u001b[39m.sock = sock_and_verified.socket\n\u001b[32m    810\u001b[39m \u001b[38;5;66;03m# If an error occurs during connection/handshake we may need to release\u001b[39;00m\n\u001b[32m    811\u001b[39m \u001b[38;5;66;03m# our lock so another connection can probe the origin.\u001b[39;00m\n",
      "\u001b[36mFile \u001b[39m\u001b[32mc:\\Users\\nloug\\OneDrive - University of Waterloo\\Fantasy_football_name_generation\\Rookie_fantasy_prediction\\Fantasy-Football-Rookie-Predictions\\nfl_env\\Lib\\site-packages\\urllib3\\connection.py:969\u001b[39m, in \u001b[36m_ssl_wrap_socket_and_match_hostname\u001b[39m\u001b[34m(sock, cert_reqs, ssl_version, ssl_minimum_version, ssl_maximum_version, cert_file, key_file, key_password, ca_certs, ca_cert_dir, ca_cert_data, assert_hostname, assert_fingerprint, server_hostname, ssl_context, tls_in_tls)\u001b[39m\n\u001b[32m    966\u001b[39m     \u001b[38;5;28;01mif\u001b[39;00m is_ipaddress(normalized):\n\u001b[32m    967\u001b[39m         server_hostname = normalized\n\u001b[32m--> \u001b[39m\u001b[32m969\u001b[39m ssl_sock = \u001b[43mssl_wrap_socket\u001b[49m\u001b[43m(\u001b[49m\n\u001b[32m    970\u001b[39m \u001b[43m    \u001b[49m\u001b[43msock\u001b[49m\u001b[43m=\u001b[49m\u001b[43msock\u001b[49m\u001b[43m,\u001b[49m\n\u001b[32m    971\u001b[39m \u001b[43m    \u001b[49m\u001b[43mkeyfile\u001b[49m\u001b[43m=\u001b[49m\u001b[43mkey_file\u001b[49m\u001b[43m,\u001b[49m\n\u001b[32m    972\u001b[39m \u001b[43m    \u001b[49m\u001b[43mcertfile\u001b[49m\u001b[43m=\u001b[49m\u001b[43mcert_file\u001b[49m\u001b[43m,\u001b[49m\n\u001b[32m    973\u001b[39m \u001b[43m    \u001b[49m\u001b[43mkey_password\u001b[49m\u001b[43m=\u001b[49m\u001b[43mkey_password\u001b[49m\u001b[43m,\u001b[49m\n\u001b[32m    974\u001b[39m \u001b[43m    \u001b[49m\u001b[43mca_certs\u001b[49m\u001b[43m=\u001b[49m\u001b[43mca_certs\u001b[49m\u001b[43m,\u001b[49m\n\u001b[32m    975\u001b[39m \u001b[43m    \u001b[49m\u001b[43mca_cert_dir\u001b[49m\u001b[43m=\u001b[49m\u001b[43mca_cert_dir\u001b[49m\u001b[43m,\u001b[49m\n\u001b[32m    976\u001b[39m \u001b[43m    \u001b[49m\u001b[43mca_cert_data\u001b[49m\u001b[43m=\u001b[49m\u001b[43mca_cert_data\u001b[49m\u001b[43m,\u001b[49m\n\u001b[32m    977\u001b[39m \u001b[43m    \u001b[49m\u001b[43mserver_hostname\u001b[49m\u001b[43m=\u001b[49m\u001b[43mserver_hostname\u001b[49m\u001b[43m,\u001b[49m\n\u001b[32m    978\u001b[39m \u001b[43m    \u001b[49m\u001b[43mssl_context\u001b[49m\u001b[43m=\u001b[49m\u001b[43mcontext\u001b[49m\u001b[43m,\u001b[49m\n\u001b[32m    979\u001b[39m \u001b[43m    \u001b[49m\u001b[43mtls_in_tls\u001b[49m\u001b[43m=\u001b[49m\u001b[43mtls_in_tls\u001b[49m\u001b[43m,\u001b[49m\n\u001b[32m    980\u001b[39m \u001b[43m\u001b[49m\u001b[43m)\u001b[49m\n\u001b[32m    982\u001b[39m \u001b[38;5;28;01mtry\u001b[39;00m:\n\u001b[32m    983\u001b[39m     \u001b[38;5;28;01mif\u001b[39;00m assert_fingerprint:\n",
      "\u001b[36mFile \u001b[39m\u001b[32mc:\\Users\\nloug\\OneDrive - University of Waterloo\\Fantasy_football_name_generation\\Rookie_fantasy_prediction\\Fantasy-Football-Rookie-Predictions\\nfl_env\\Lib\\site-packages\\urllib3\\util\\ssl_.py:458\u001b[39m, in \u001b[36mssl_wrap_socket\u001b[39m\u001b[34m(sock, keyfile, certfile, cert_reqs, ca_certs, server_hostname, ssl_version, ciphers, ssl_context, ca_cert_dir, key_password, ca_cert_data, tls_in_tls)\u001b[39m\n\u001b[32m    456\u001b[39m \u001b[38;5;28;01mif\u001b[39;00m ca_certs \u001b[38;5;129;01mor\u001b[39;00m ca_cert_dir \u001b[38;5;129;01mor\u001b[39;00m ca_cert_data:\n\u001b[32m    457\u001b[39m     \u001b[38;5;28;01mtry\u001b[39;00m:\n\u001b[32m--> \u001b[39m\u001b[32m458\u001b[39m         \u001b[43mcontext\u001b[49m\u001b[43m.\u001b[49m\u001b[43mload_verify_locations\u001b[49m\u001b[43m(\u001b[49m\u001b[43mca_certs\u001b[49m\u001b[43m,\u001b[49m\u001b[43m \u001b[49m\u001b[43mca_cert_dir\u001b[49m\u001b[43m,\u001b[49m\u001b[43m \u001b[49m\u001b[43mca_cert_data\u001b[49m\u001b[43m)\u001b[49m\n\u001b[32m    459\u001b[39m     \u001b[38;5;28;01mexcept\u001b[39;00m \u001b[38;5;167;01mOSError\u001b[39;00m \u001b[38;5;28;01mas\u001b[39;00m e:\n\u001b[32m    460\u001b[39m         \u001b[38;5;28;01mraise\u001b[39;00m SSLError(e) \u001b[38;5;28;01mfrom\u001b[39;00m\u001b[38;5;250m \u001b[39m\u001b[34;01me\u001b[39;00m\n",
      "\u001b[31mKeyboardInterrupt\u001b[39m: "
     ]
    }
   ],
   "source": [
    "player_names = df[\"url_name\"]\n",
    "college_stats = get_player_stats(player_names)\n",
    "print(college_stats[\"bryce-young\"][\"tables\"][\"passing_standard\"].head())\n",
    "print(college_stats[\"bryce-young\"][\"height_in\"])"
   ]
  },
  {
   "cell_type": "code",
   "execution_count": null,
   "id": "a53b7146",
   "metadata": {},
   "outputs": [
    {
     "name": "stdout",
     "output_type": "stream",
     "text": [
      "72\n",
      "0    194\n",
      "1    202\n",
      "Name: weight_lb, dtype: int64\n",
      "  player_id         name position team  draft_year  draft_round  \\\n",
      "0       NaN  Bryce Young       QB  CAR        2023          1.0   \n",
      "1       NaN  C.J. Stroud       QB  HOU        2023          1.0   \n",
      "\n",
      "   draft_pick_overall  age_on_draft_day conference conference_strength  ...  \\\n",
      "0                 1.0              22.0        NaN                 NaN  ...   \n",
      "1                 2.0              21.0        NaN                 NaN  ...   \n",
      "\n",
      "   RecYds  RecTD RushYds RushTD PassYds PassTD Fumbles  INT          NaN  \\\n",
      "0     NaN    NaN     NaN    NaN     NaN    NaN     NaN  NaN  Bryce Young   \n",
      "1     NaN    NaN     NaN    NaN     NaN    NaN     NaN  NaN  C.J. Stroud   \n",
      "\n",
      "      url_name  \n",
      "0  bryce-young  \n",
      "1    cj-stroud  \n",
      "\n",
      "[2 rows x 48 columns]\n"
     ]
    }
   ],
   "source": [
    "# Add relevent info to master df \n",
    "for name in player_names:\n",
    "    df.loc[df[\"url_name\"] == name, \"height_in\"] = test_stats[name][\"height_in\"]\n",
    "    df.loc[df[\"url_name\"] == name, \"weight_lb\"] = test_stats[name][\"weight_lb\"]\n",
    "\n",
    "print(df[\"weight_lb\"][:2])\n",
    "print(df[:2])"
   ]
  },
  {
   "cell_type": "code",
   "execution_count": null,
   "id": "abb7c8a2",
   "metadata": {},
   "outputs": [],
   "source": [
    "def get_nfl_pages(years):\n",
    "    nfl_player_pages = []\n",
    "\n",
    "    # Add headers to mimic a real browser -- site was blocking scraping \n",
    "    headers = {\n",
    "        'User-Agent': 'Mozilla/5.0 (Windows NT 10.0; Win64; x64) AppleWebKit/537.36 (KHTML, like Gecko) Chrome/91.0.4472.124 Safari/537.36',\n",
    "        'Accept': 'text/html,application/xhtml+xml,application/xml;q=0.9,image/webp,*/*;q=0.8',\n",
    "        'Accept-Language': 'en-US,en;q=0.5',\n",
    "        'Accept-Encoding': 'gzip, deflate',\n",
    "        'Connection': 'keep-alive',\n",
    "        'Upgrade-Insecure-Requests': '1',\n",
    "    }\n",
    "\n",
    "    for year in years:\n",
    "        url = f\"https://www.pro-football-reference.com/years/{year}/draft.htm\"\n",
    "        try:\n",
    "            response = requests.get(url, headers=headers)\n",
    "            if response.status_code == 200:\n",
    "                print(f\"Found data for {year} draft at {url}\")\n",
    "                soup = BeautifulSoup(response.text, \"html.parser\")\n",
    "\n",
    "                # Get tables \n",
    "                tables = pd.read_html(response.text)\n",
    "\n",
    "                # Get player nfl stats pages \n",
    "                base_url = \"https://www.pro-football-reference.com/\"\n",
    "\n",
    "                container = soup.find(\"div\", {\"id\": \"div_drafts\"})\n",
    "                if container:\n",
    "                    table = container.find(\"table\")\n",
    "                    if table:\n",
    "                        tbody = table.find(\"tbody\")\n",
    "                        if tbody:\n",
    "                            rows = tbody.find_all(\"tr\")\n",
    "                            for row in rows:\n",
    "                                player_cell = row.find(\"td\", {\"data-stat\": \"player\"})\n",
    "                                if player_cell:\n",
    "                                    link_tag = player_cell.find(\"a\")\n",
    "                                    if link_tag and \"href\" in link_tag.attrs:\n",
    "                                        relative_url = link_tag[\"href\"]\n",
    "                                        full_url = base_url + relative_url\n",
    "                                        player_name = link_tag.get_text(strip=True)\n",
    "                                        nfl_player_pages.append({\"name\": player_name, \"url\": full_url})\n",
    "                        else:\n",
    "                            print(f\"No tbody found for {year}\")\n",
    "                    else:\n",
    "                        print(f\"No table found in div_drafts for {year}\")\n",
    "                else:\n",
    "                    print(f\"No div_drafts container found for {year}\")\n",
    "            else:\n",
    "                print(f\"HTTP {response.status_code} for {url}\")\n",
    "                \n",
    "        except Exception as e:\n",
    "            print(f\"Error fetching {url}: {e}\")\n",
    "    return nfl_player_pages"
   ]
  },
  {
   "cell_type": "code",
   "execution_count": 78,
   "id": "557b0aa0",
   "metadata": {},
   "outputs": [
    {
     "name": "stdout",
     "output_type": "stream",
     "text": [
      "HTTP 403 for https://www.pro-football-reference.com/years/2023/draft.htm\n",
      "[]\n"
     ]
    }
   ],
   "source": [
    "years = [\"2023\", \"2024\"]\n",
    "nfl_pages = get_nfl_pages([\"2023\"])\n",
    "print(nfl_pages)"
   ]
  },
  {
   "cell_type": "code",
   "execution_count": null,
   "id": "59b99538",
   "metadata": {},
   "outputs": [],
   "source": [
    "def get_nfl_stats(nfl_player_pages):\n",
    "    all_nfl_data = {}\n",
    "\n",
    "    # Add headers to help with blocking\n",
    "    headers = {\n",
    "        'User-Agent': 'Mozilla/5.0 (Windows NT 10.0; Win64; x64) AppleWebKit/537.36 (KHTML, like Gecko) Chrome/91.0.4472.124 Safari/537.36'\n",
    "    }\n",
    "    \n",
    "    for entry in nfl_player_pages:\n",
    "        name = entry[\"name\"]\n",
    "        url = entry[\"url\"]\n",
    "        try:\n",
    "            response = requests.get(url, headers=headers)\n",
    "            if response.status_code == 200:\n",
    "                print(f\"Found data for {name} at {url}\")\n",
    "                soup = BeautifulSoup(response.text, \"html.parser\")\n",
    "\n",
    "                # Get tables \n",
    "                tables = pd.read_html(response.text)\n",
    "                # There are mulitple tables per page, map them to their html ids\n",
    "                table_map = {}\n",
    "                for i, table in enumerate(soup.find_all(\"table\")):\n",
    "                    table_id = table.get(\"id\", f\"table_{i}\")\n",
    "                    table_map[table_id] = tables[i]\n",
    "\n",
    "                # Filter only the tables we care about\n",
    "                relevant_ids = [\"passing\", \"rushing_and_receiving\"]\n",
    "                player_tables = {tid: df for tid, df in table_map.items() if tid in relevant_ids}\n",
    "\n",
    "                all_nfl_data[name] = player_tables\n",
    "\n",
    "                # Add delay to be respectful\n",
    "                time.sleep(2)\n",
    "                \n",
    "            else:\n",
    "                print(f\"HTTP {response.status_code} for {name} at {url}\")\n",
    "        except Exception as e:\n",
    "            print(f\"Error fetching {url}: {e}\")\n",
    "    # Check for any data at all\n",
    "    if not all_nfl_data:\n",
    "        print(\"No data found for any players - likely blocked by site\")\n",
    "    else:\n",
    "        print(f\"Successfully retrieved data for {len(all_nfl_data)} players\")\n",
    "\n",
    "    return all_nfl_data \n",
    "        "
   ]
  },
  {
   "cell_type": "code",
   "execution_count": null,
   "id": "c329feee",
   "metadata": {},
   "outputs": [
    {
     "name": "stdout",
     "output_type": "stream",
     "text": [
      "No page found for Bryce Young\n"
     ]
    }
   ],
   "source": [
    "urls = [{\"name\": \"Bryce Young\", \"url\": \"https://www.pro-football-reference.com/players/Y/YounBr01.htm\"}]\n",
    "rookie_data = get_nfl_stats(urls)"
   ]
  },
  {
   "cell_type": "markdown",
   "id": "1b99338f",
   "metadata": {},
   "source": [
    "## Get Rookie Season Data: Method 2 - Using NFL_data_py package\n",
    "https://pypi.org/project/nfl-data-py/\n",
    "\n",
    "option: \n",
    "nfl.import_seasonal_data(years, s_type)\n",
    "Returns seasonal data, including various calculated market share stats specific to receivers\n",
    "\n",
    "years (List[int]) : required, list of years to pull data for (earliest available is 1999)\n",
    "\n",
    "s_type (str) : optional (default 'REG') season type to include in average ('ALL','REG','POST')\n",
    "\n",
    "\n",
    "nfl.import_seasonal_pfr(s_type, years)\n",
    "Returns a dataframe of season-aggregated data sourced from players' pages on pro-football-reference.com. E.g. Patrick Mahomes\n",
    "\n",
    "s_type (str) : required, the type of stat data to request. Must be one of pass, rec, or rush.\n",
    "\n",
    "years (List[int]) : optional, years to return data for"
   ]
  },
  {
   "cell_type": "code",
   "execution_count": 65,
   "id": "256b6316",
   "metadata": {},
   "outputs": [],
   "source": [
    "def get_player_id_map(names: list[str], years: list[int]) -> dict:\n",
    "    \"\"\"\n",
    "    Build a mapping of player_id -> 'First Last' given player names and corresponding years.\n",
    "    \n",
    "    \"\"\"\n",
    "    if len(names) != len(years):\n",
    "        raise ValueError(\"names and years must have the same length\")\n",
    "    \n",
    "    player_map = {}\n",
    "    \n",
    "    # Loop through each (name, year) pair\n",
    "    for name, year in zip(names, years):\n",
    "        roster = nfl.import_seasonal_rosters([year])\n",
    "        #roster[\"player_name\"] = roster[\"first_name\"] + \" \" + roster[\"last_name\"]\n",
    "        \n",
    "        match = roster[roster[\"player_name\"] == name]\n",
    "        \n",
    "        if not match.empty:\n",
    "            player_id = match.iloc[0][\"player_id\"]\n",
    "            player_map[player_id] = {\n",
    "                \"name\": name,\n",
    "                \"rookie_year\": year,\n",
    "                \"position\": match.iloc[0][\"position\"],\n",
    "                \"team\": match.iloc[0][\"team\"],\n",
    "                \"height_in\": match.iloc[0].get(\"height_in\"),\n",
    "                \"weight_lb\": match.iloc[0].get(\"weight_lb\"),\n",
    "                \"age_on_draft_day\": match.iloc[0].get(\"age_on_draft_day\")\n",
    "            }\n",
    "        else:\n",
    "            print(f\"No match found for {name} in {year}\")\n",
    "    \n",
    "    return player_map\n"
   ]
  },
  {
   "cell_type": "code",
   "execution_count": 67,
   "id": "7100436a",
   "metadata": {},
   "outputs": [
    {
     "name": "stdout",
     "output_type": "stream",
     "text": [
      "No match found for Henry Ruggs III in 2020\n",
      "No match found for Michael Pittman Jr. in 2020\n",
      "No match found for Laviska Shenault Jr. in 2020\n",
      "No match found for KJ Hamler in 2020\n",
      "No match found for AJ Dillon in 2020\n",
      "No match found for Lynn Bowden Jr. in 2020\n",
      "No match found for Anthony McFarland Jr. in 2020\n",
      "No match found for Cole McDonald in 2020\n",
      "No match found for Kenneth Walker III in 2022\n",
      "No match found for Velus Jones Jr. in 2022\n",
      "No match found for Brian Robinson Jr. in 2022\n",
      "No match found for Calvin Austin III in 2022\n",
      "No match found for Michael Woods II in 2022\n",
      "No match found for Grant Dubose in 2023\n",
      "No match found for Michael Penix in 2024\n",
      "No match found for Brian Thomas in 2024\n",
      "No match found for Audric Estime in 2024\n",
      "No match found for Joe Milton in 2024\n",
      "{'00-0036442': {'name': 'Joe Burrow', 'rookie_year': 2020, 'position': 'QB', 'team': 'CIN', 'height_in': None, 'weight_lb': None, 'age_on_draft_day': None}, '00-0036212': {'name': 'Tua Tagovailoa', 'rookie_year': 2020, 'position': 'QB', 'team': 'MIA', 'height_in': None, 'weight_lb': None, 'age_on_draft_day': None}, '00-0036355': {'name': 'Justin Herbert', 'rookie_year': 2020, 'position': 'QB', 'team': 'LAC', 'height_in': None, 'weight_lb': None, 'age_on_draft_day': None}, '00-0036407': {'name': 'Jerry Jeudy', 'rookie_year': 2020, 'position': 'WR', 'team': 'DEN', 'height_in': None, 'weight_lb': None, 'age_on_draft_day': None}, '00-0036358': {'name': 'CeeDee Lamb', 'rookie_year': 2020, 'position': 'WR', 'team': 'DAL', 'height_in': None, 'weight_lb': None, 'age_on_draft_day': None}, '00-0036387': {'name': 'Jalen Reagor', 'rookie_year': 2020, 'position': 'WR', 'team': 'PHI', 'height_in': None, 'weight_lb': None, 'age_on_draft_day': None}, '00-0036322': {'name': 'Justin Jefferson', 'rookie_year': 2020, 'position': 'WR', 'team': 'MIN', 'height_in': None, 'weight_lb': None, 'age_on_draft_day': None}, '00-0036261': {'name': 'Brandon Aiyuk', 'rookie_year': 2020, 'position': 'WR', 'team': 'SF', 'height_in': None, 'weight_lb': None, 'age_on_draft_day': None}, '00-0036264': {'name': 'Jordan Love', 'rookie_year': 2020, 'position': 'QB', 'team': 'GB', 'height_in': None, 'weight_lb': None, 'age_on_draft_day': None}, '00-0036360': {'name': 'Clyde Edwards-Helaire', 'rookie_year': 2020, 'position': 'RB', 'team': 'KC', 'height_in': None, 'weight_lb': None, 'age_on_draft_day': None}, '00-0036410': {'name': 'Tee Higgins', 'rookie_year': 2020, 'position': 'WR', 'team': 'CIN', 'height_in': None, 'weight_lb': None, 'age_on_draft_day': None}, '00-0036275': {'name': \"D'Andre Swift\", 'rookie_year': 2020, 'position': 'RB', 'team': 'DET', 'height_in': None, 'weight_lb': None, 'age_on_draft_day': None}, '00-0036223': {'name': 'Jonathan Taylor', 'rookie_year': 2020, 'position': 'RB', 'team': 'IND', 'height_in': None, 'weight_lb': None, 'age_on_draft_day': None}, '00-0036290': {'name': 'Cole Kmet', 'rookie_year': 2020, 'position': 'TE', 'team': 'CHI', 'height_in': None, 'weight_lb': None, 'age_on_draft_day': None}, '00-0036326': {'name': 'Chase Claypool', 'rookie_year': 2020, 'position': 'WR', 'team': 'PIT', 'height_in': None, 'weight_lb': None, 'age_on_draft_day': None}, '00-0036414': {'name': 'Cam Akers', 'rookie_year': 2020, 'position': 'RB', 'team': 'LA', 'height_in': None, 'weight_lb': None, 'age_on_draft_day': None}, '00-0036389': {'name': 'Jalen Hurts', 'rookie_year': 2020, 'position': 'QB', 'team': 'PHI', 'height_in': None, 'weight_lb': None, 'age_on_draft_day': None}, '00-0036158': {'name': 'J.K. Dobbins', 'rookie_year': 2020, 'position': 'RB', 'team': 'BAL', 'height_in': None, 'weight_lb': None, 'age_on_draft_day': None}, '00-0036415': {'name': 'Van Jefferson', 'rookie_year': 2020, 'position': 'WR', 'team': 'LA', 'height_in': None, 'weight_lb': None, 'age_on_draft_day': None}, '00-0036255': {'name': 'Denzel Mims', 'rookie_year': 2020, 'position': 'WR', 'team': 'NYJ', 'height_in': None, 'weight_lb': None, 'age_on_draft_day': None}, '00-0036328': {'name': 'Antonio Gibson', 'rookie_year': 2020, 'position': 'RB', 'team': 'WAS', 'height_in': None, 'weight_lb': None, 'age_on_draft_day': None}, '00-0036450': {'name': \"Ke'Shawn Vaughn\", 'rookie_year': 2020, 'position': 'RB', 'team': 'TB', 'height_in': None, 'weight_lb': None, 'age_on_draft_day': None}, '00-0036365': {'name': 'Bryan Edwards', 'rookie_year': 2020, 'position': 'WR', 'team': 'LV', 'height_in': None, 'weight_lb': None, 'age_on_draft_day': None}, '00-0036251': {'name': 'Zack Moss', 'rookie_year': 2020, 'position': 'RB', 'team': 'BUF', 'height_in': None, 'weight_lb': None, 'age_on_draft_day': None}, '00-0036194': {'name': 'Devin Asiasi', 'rookie_year': 2020, 'position': 'TE', 'team': 'NE', 'height_in': None, 'weight_lb': None, 'age_on_draft_day': None}, '00-0036331': {'name': 'Devin Duvernay', 'rookie_year': 2020, 'position': 'WR', 'team': 'BAL', 'height_in': None, 'weight_lb': None, 'age_on_draft_day': None}, '00-0036297': {'name': 'Darrynton Evans', 'rookie_year': 2020, 'position': 'RB', 'team': 'TEN', 'height_in': None, 'weight_lb': None, 'age_on_draft_day': None}, '00-0036332': {'name': 'Josiah Deguara', 'rookie_year': 2020, 'position': 'TE', 'team': 'GB', 'height_in': None, 'weight_lb': None, 'age_on_draft_day': None}, '00-0036225': {'name': 'Dalton Keene', 'rookie_year': 2020, 'position': 'TE', 'team': 'NE', 'height_in': None, 'weight_lb': None, 'age_on_draft_day': None}, '00-0036422': {'name': 'Adam Trautman', 'rookie_year': 2020, 'position': 'TE', 'team': 'NO', 'height_in': None, 'weight_lb': None, 'age_on_draft_day': None}, '00-0036370': {'name': 'Joshua Kelley', 'rookie_year': 2020, 'position': 'RB', 'team': 'LAC', 'height_in': None, 'weight_lb': None, 'age_on_draft_day': None}, '00-0036232': {'name': 'Harrison Bryant', 'rookie_year': 2020, 'position': 'TE', 'team': 'CLE', 'height_in': None, 'weight_lb': None, 'age_on_draft_day': None}, '00-0036423': {'name': 'Albert Okwuegbunam', 'rookie_year': 2020, 'position': 'TE', 'team': 'DEN', 'height_in': None, 'weight_lb': None, 'age_on_draft_day': None}, '00-0036269': {'name': \"La'Mical Perine\", 'rookie_year': 2020, 'position': 'RB', 'team': 'NYJ', 'height_in': None, 'weight_lb': None, 'age_on_draft_day': None}, '00-0036226': {'name': 'Jacob Eason', 'rookie_year': 2020, 'position': 'QB', 'team': 'IND', 'height_in': None, 'weight_lb': None, 'age_on_draft_day': None}, '00-0036301': {'name': 'James Morgan', 'rookie_year': 2020, 'position': 'QB', 'team': 'NYJ', 'height_in': None, 'weight_lb': None, 'age_on_draft_day': None}, '00-0036196': {'name': 'Gabriel Davis', 'rookie_year': 2020, 'position': 'WR', 'team': 'BUF', 'height_in': None, 'weight_lb': None, 'age_on_draft_day': None}, '00-0036244': {'name': 'Colby Parkinson', 'rookie_year': 2020, 'position': 'TE', 'team': 'SEA', 'height_in': None, 'weight_lb': None, 'age_on_draft_day': None}, '00-0036424': {'name': 'Brycen Hopkins', 'rookie_year': 2020, 'position': 'TE', 'team': 'LA', 'height_in': None, 'weight_lb': None, 'age_on_draft_day': None}, '00-0036340': {'name': 'Antonio Gandy-Golden', 'rookie_year': 2020, 'position': 'WR', 'team': 'WAS', 'height_in': None, 'weight_lb': None, 'age_on_draft_day': None}, '00-0036425': {'name': 'DeeJay Dallas', 'rookie_year': 2020, 'position': 'RB', 'team': 'SEA', 'height_in': None, 'weight_lb': None, 'age_on_draft_day': None}, '00-0036377': {'name': 'Joe Reed', 'rookie_year': 2020, 'position': 'WR', 'team': 'LAC', 'height_in': None, 'weight_lb': None, 'age_on_draft_day': None}, '00-0036427': {'name': 'Tyler Johnson', 'rookie_year': 2020, 'position': 'WR', 'team': 'TB', 'height_in': None, 'weight_lb': None, 'age_on_draft_day': None}, '00-0036254': {'name': 'Collin Johnson', 'rookie_year': 2020, 'position': 'WR', 'team': 'JAX', 'height_in': None, 'weight_lb': None, 'age_on_draft_day': None}, '00-0036277': {'name': 'Quintez Cephus', 'rookie_year': 2020, 'position': 'WR', 'team': 'DET', 'height_in': None, 'weight_lb': None, 'age_on_draft_day': None}, '00-0036197': {'name': 'Jake Fromm', 'rookie_year': 2020, 'position': 'QB', 'team': 'BUF', 'height_in': None, 'weight_lb': None, 'age_on_draft_day': None}, '00-0036398': {'name': 'John Hightower', 'rookie_year': 2020, 'position': 'WR', 'team': 'PHI', 'height_in': None, 'weight_lb': None, 'age_on_draft_day': None}, '00-0036308': {'name': 'Isaiah Coulter', 'rookie_year': 2020, 'position': 'WR', 'team': 'HOU', 'height_in': None, 'weight_lb': None, 'age_on_draft_day': None}, '00-0036278': {'name': 'Jason Huntley', 'rookie_year': 2020, 'position': 'RB', 'team': 'PHI', 'height_in': None, 'weight_lb': None, 'age_on_draft_day': None}, '00-0036309': {'name': 'Darnell Mooney', 'rookie_year': 2020, 'position': 'WR', 'team': 'CHI', 'height_in': None, 'weight_lb': None, 'age_on_draft_day': None}, '00-0036345': {'name': 'K.J. Osborn', 'rookie_year': 2020, 'position': 'WR', 'team': 'MIN', 'height_in': None, 'weight_lb': None, 'age_on_draft_day': None}, '00-0036233': {'name': 'Donovan Peoples-Jones', 'rookie_year': 2020, 'position': 'WR', 'team': 'CLE', 'height_in': None, 'weight_lb': None, 'age_on_draft_day': None}, '00-0036312': {'name': 'Jake Luton', 'rookie_year': 2020, 'position': 'QB', 'team': 'JAX', 'height_in': None, 'weight_lb': None, 'age_on_draft_day': None}, '00-0036429': {'name': 'Charlie Woerner', 'rookie_year': 2020, 'position': 'TE', 'team': 'SF', 'height_in': None, 'weight_lb': None, 'age_on_draft_day': None}, '00-0036271': {'name': 'Quez Watkins', 'rookie_year': 2020, 'position': 'WR', 'team': 'PHI', 'height_in': None, 'weight_lb': None, 'age_on_draft_day': None}, '00-0036133': {'name': 'James Proche', 'rookie_year': 2020, 'position': 'WR', 'team': 'BAL', 'height_in': None, 'weight_lb': None, 'age_on_draft_day': None}, '00-0036250': {'name': 'Tyler Davis', 'rookie_year': 2020, 'position': 'TE', 'team': 'JAX', 'height_in': None, 'weight_lb': None, 'age_on_draft_day': None}, '00-0036165': {'name': 'Isaiah Hodgins', 'rookie_year': 2020, 'position': 'WR', 'team': 'BUF', 'height_in': None, 'weight_lb': None, 'age_on_draft_day': None}, '00-0036228': {'name': 'Dezmon Patmon', 'rookie_year': 2020, 'position': 'WR', 'team': 'IND', 'height_in': None, 'weight_lb': None, 'age_on_draft_day': None}, '00-0036247': {'name': 'Freddie Swain', 'rookie_year': 2020, 'position': 'WR', 'team': 'SEA', 'height_in': None, 'weight_lb': None, 'age_on_draft_day': None}, '00-0036259': {'name': 'Jauan Jennings', 'rookie_year': 2020, 'position': 'WR', 'team': 'SF', 'height_in': None, 'weight_lb': None, 'age_on_draft_day': None}, '00-0036382': {'name': 'K.J. Hill', 'rookie_year': 2020, 'position': 'WR', 'team': 'LAC', 'height_in': None, 'weight_lb': None, 'age_on_draft_day': None}, '00-0036383': {'name': 'Eno Benjamin', 'rookie_year': 2020, 'position': 'RB', 'team': 'ARI', 'height_in': None, 'weight_lb': None, 'age_on_draft_day': None}, '00-0036384': {'name': 'Ben DiNucci', 'rookie_year': 2020, 'position': 'QB', 'team': 'DAL', 'height_in': None, 'weight_lb': None, 'age_on_draft_day': None}, '00-0036433': {'name': 'Tommy Stevens', 'rookie_year': 2020, 'position': 'QB', 'team': 'CAR', 'height_in': None, 'weight_lb': None, 'age_on_draft_day': None}, '00-0036279': {'name': 'Nate Stanley', 'rookie_year': 2020, 'position': 'QB', 'team': 'MIN', 'height_in': None, 'weight_lb': None, 'age_on_draft_day': None}, '00-0036435': {'name': 'Raymond Calais', 'rookie_year': 2020, 'position': 'RB', 'team': 'LA', 'height_in': None, 'weight_lb': None, 'age_on_draft_day': None}, '00-0036245': {'name': 'Malcolm Perry', 'rookie_year': 2020, 'position': 'RB', 'team': 'MIA', 'height_in': None, 'weight_lb': None, 'age_on_draft_day': None}, '00-0036438': {'name': 'Stephen Sullivan', 'rookie_year': 2020, 'position': 'TE', 'team': 'SEA', 'height_in': None, 'weight_lb': None, 'age_on_draft_day': None}, '00-0036439': {'name': 'Tyrie Cleveland', 'rookie_year': 2020, 'position': 'WR', 'team': 'DEN', 'height_in': None, 'weight_lb': None, 'age_on_draft_day': None}, '00-0037238': {'name': 'Drake London', 'rookie_year': 2022, 'position': 'WR', 'team': 'ATL', 'height_in': None, 'weight_lb': None, 'age_on_draft_day': None}, '00-0037740': {'name': 'Garrett Wilson', 'rookie_year': 2022, 'position': 'WR', 'team': 'NYJ', 'height_in': None, 'weight_lb': None, 'age_on_draft_day': None}, '00-0037239': {'name': 'Chris Olave', 'rookie_year': 2022, 'position': 'WR', 'team': 'NO', 'height_in': None, 'weight_lb': None, 'age_on_draft_day': None}, '00-0037240': {'name': 'Jameson Williams', 'rookie_year': 2022, 'position': 'WR', 'team': 'DET', 'height_in': None, 'weight_lb': None, 'age_on_draft_day': None}, '00-0037741': {'name': 'Jahan Dotson', 'rookie_year': 2022, 'position': 'WR', 'team': 'WAS', 'height_in': None, 'weight_lb': None, 'age_on_draft_day': None}, '00-0037742': {'name': 'Treylon Burks', 'rookie_year': 2022, 'position': 'WR', 'team': 'TEN', 'height_in': None, 'weight_lb': None, 'age_on_draft_day': None}, '00-0038102': {'name': 'Kenny Pickett', 'rookie_year': 2022, 'position': 'QB', 'team': 'PIT', 'height_in': None, 'weight_lb': None, 'age_on_draft_day': None}, '00-0038124': {'name': 'Christian Watson', 'rookie_year': 2022, 'position': 'WR', 'team': 'GB', 'height_in': None, 'weight_lb': None, 'age_on_draft_day': None}, '00-0038120': {'name': 'Breece Hall', 'rookie_year': 2022, 'position': 'RB', 'team': 'NYJ', 'height_in': None, 'weight_lb': None, 'age_on_draft_day': None}, '00-0038117': {'name': \"Wan'Dale Robinson\", 'rookie_year': 2022, 'position': 'WR', 'team': 'NYG', 'height_in': None, 'weight_lb': None, 'age_on_draft_day': None}, '00-0037614': {'name': 'John Metchie', 'rookie_year': 2022, 'position': 'WR', 'team': 'HOU', 'height_in': None, 'weight_lb': None, 'age_on_draft_day': None}, '00-0038104': {'name': 'Tyquan Thornton', 'rookie_year': 2022, 'position': 'WR', 'team': 'NE', 'height_in': None, 'weight_lb': None, 'age_on_draft_day': None}, '00-0037247': {'name': 'George Pickens', 'rookie_year': 2022, 'position': 'WR', 'team': 'PIT', 'height_in': None, 'weight_lb': None, 'age_on_draft_day': None}, '00-0037664': {'name': 'Alec Pierce', 'rookie_year': 2022, 'position': 'WR', 'team': 'IND', 'height_in': None, 'weight_lb': None, 'age_on_draft_day': None}, '00-0038090': {'name': 'Skyy Moore', 'rookie_year': 2022, 'position': 'WR', 'team': 'KC', 'height_in': None, 'weight_lb': None, 'age_on_draft_day': None}, '00-0037744': {'name': 'Trey McBride', 'rookie_year': 2022, 'position': 'TE', 'team': 'ARI', 'height_in': None, 'weight_lb': None, 'age_on_draft_day': None}, '00-0037248': {'name': 'James Cook', 'rookie_year': 2022, 'position': 'RB', 'team': 'BUF', 'height_in': None, 'weight_lb': None, 'age_on_draft_day': None}, '00-0037755': {'name': 'Jelani Woods', 'rookie_year': 2022, 'position': 'TE', 'team': 'IND', 'height_in': None, 'weight_lb': None, 'age_on_draft_day': None}, '00-0038122': {'name': 'Desmond Ridder', 'rookie_year': 2022, 'position': 'QB', 'team': 'ATL', 'height_in': None, 'weight_lb': None, 'age_on_draft_day': None}, '00-0037252': {'name': 'Greg Dulcich', 'rookie_year': 2022, 'position': 'TE', 'team': 'DEN', 'height_in': None, 'weight_lb': None, 'age_on_draft_day': None}, '00-0038128': {'name': 'Malik Willis', 'rookie_year': 2022, 'position': 'QB', 'team': 'TEN', 'height_in': None, 'weight_lb': None, 'age_on_draft_day': None}, '00-0037666': {'name': 'Jalen Tolbert', 'rookie_year': 2022, 'position': 'WR', 'team': 'DAL', 'height_in': None, 'weight_lb': None, 'age_on_draft_day': None}, '00-0037256': {'name': 'Rachaad White', 'rookie_year': 2022, 'position': 'RB', 'team': 'TB', 'height_in': None, 'weight_lb': None, 'age_on_draft_day': None}, '00-0037827': {'name': 'Tyrion Davis-Price', 'rookie_year': 2022, 'position': 'RB', 'team': 'SF', 'height_in': None, 'weight_lb': None, 'age_on_draft_day': None}, '00-0038132': {'name': 'Matt Corral', 'rookie_year': 2022, 'position': 'QB', 'team': 'CAR', 'height_in': None, 'weight_lb': None, 'age_on_draft_day': None}, '00-0037257': {'name': 'David Bell', 'rookie_year': 2022, 'position': 'WR', 'team': 'CLE', 'height_in': None, 'weight_lb': None, 'age_on_draft_day': None}, '00-0037805': {'name': 'Jeremy Ruckert', 'rookie_year': 2022, 'position': 'TE', 'team': 'NYJ', 'height_in': None, 'weight_lb': None, 'age_on_draft_day': None}, '00-0037828': {'name': 'Danny Gray', 'rookie_year': 2022, 'position': 'WR', 'team': 'SF', 'height_in': None, 'weight_lb': None, 'age_on_draft_day': None}, '00-0038129': {'name': 'Cade Otton', 'rookie_year': 2022, 'position': 'TE', 'team': 'TB', 'height_in': None, 'weight_lb': None, 'age_on_draft_day': None}, '00-0037258': {'name': 'Dameon Pierce', 'rookie_year': 2022, 'position': 'RB', 'team': 'HOU', 'height_in': None, 'weight_lb': None, 'age_on_draft_day': None}, '00-0038115': {'name': 'Daniel Bellinger', 'rookie_year': 2022, 'position': 'TE', 'team': 'NYG', 'height_in': None, 'weight_lb': None, 'age_on_draft_day': None}, '00-0038040': {'name': 'Zamir White', 'rookie_year': 2022, 'position': 'RB', 'team': 'LV', 'height_in': None, 'weight_lb': None, 'age_on_draft_day': None}, '00-0038045': {'name': 'Isaiah Spiller', 'rookie_year': 2022, 'position': 'RB', 'team': 'LAC', 'height_in': None, 'weight_lb': None, 'age_on_draft_day': None}, '00-0038092': {'name': 'Erik Ezukanma', 'rookie_year': 2022, 'position': 'WR', 'team': 'MIA', 'height_in': None, 'weight_lb': None, 'age_on_draft_day': None}, '00-0038098': {'name': 'Pierre Strong', 'rookie_year': 2022, 'position': 'RB', 'team': 'NE', 'height_in': None, 'weight_lb': None, 'age_on_draft_day': None}, '00-0038046': {'name': 'Charlie Kolar', 'rookie_year': 2022, 'position': 'TE', 'team': 'BAL', 'height_in': None, 'weight_lb': None, 'age_on_draft_day': None}, '00-0038041': {'name': 'Jake Ferguson', 'rookie_year': 2022, 'position': 'TE', 'team': 'DAL', 'height_in': None, 'weight_lb': None, 'age_on_draft_day': None}, '00-0037617': {'name': 'Hassan Haskins', 'rookie_year': 2022, 'position': 'RB', 'team': 'TEN', 'height_in': None, 'weight_lb': None, 'age_on_draft_day': None}, '00-0037816': {'name': 'Romeo Doubs', 'rookie_year': 2022, 'position': 'WR', 'team': 'GB', 'height_in': None, 'weight_lb': None, 'age_on_draft_day': None}, '00-0038108': {'name': 'Bailey Zappe', 'rookie_year': 2022, 'position': 'QB', 'team': 'NE', 'height_in': None, 'weight_lb': None, 'age_on_draft_day': None}, '00-0037838': {'name': 'Isaiah Likely', 'rookie_year': 2022, 'position': 'TE', 'team': 'BAL', 'height_in': None, 'weight_lb': None, 'age_on_draft_day': None}, '00-0037809': {'name': 'Chigoziem Okonkwo', 'rookie_year': 2022, 'position': 'TE', 'team': 'TEN', 'height_in': None, 'weight_lb': None, 'age_on_draft_day': None}, '00-0037077': {'name': 'Sam Howell', 'rookie_year': 2022, 'position': 'QB', 'team': 'WAS', 'height_in': None, 'weight_lb': None, 'age_on_draft_day': None}, '00-0037261': {'name': 'Khalil Shakir', 'rookie_year': 2022, 'position': 'WR', 'team': 'BUF', 'height_in': None, 'weight_lb': None, 'age_on_draft_day': None}, '00-0037078': {'name': 'Cole Turner', 'rookie_year': 2022, 'position': 'TE', 'team': 'WAS', 'height_in': None, 'weight_lb': None, 'age_on_draft_day': None}, '00-0037263': {'name': 'Tyler Allgeier', 'rookie_year': 2022, 'position': 'RB', 'team': 'ATL', 'height_in': None, 'weight_lb': None, 'age_on_draft_day': None}, '00-0037265': {'name': 'Snoop Conner', 'rookie_year': 2022, 'position': 'RB', 'team': 'JAX', 'height_in': None, 'weight_lb': None, 'age_on_draft_day': None}, '00-0037267': {'name': 'Jerome Ford', 'rookie_year': 2022, 'position': 'RB', 'team': 'CLE', 'height_in': None, 'weight_lb': None, 'age_on_draft_day': None}, '00-0037272': {'name': 'Montrell Washington', 'rookie_year': 2022, 'position': 'WR', 'team': 'DEN', 'height_in': None, 'weight_lb': None, 'age_on_draft_day': None}, '00-0037273': {'name': 'Kyle Philips', 'rookie_year': 2022, 'position': 'WR', 'team': 'TEN', 'height_in': None, 'weight_lb': None, 'age_on_draft_day': None}, '00-0037840': {'name': 'Kyren Williams', 'rookie_year': 2022, 'position': 'RB', 'team': 'LA', 'height_in': None, 'weight_lb': None, 'age_on_draft_day': None}, '00-0037276': {'name': 'Ty Chandler', 'rookie_year': 2022, 'position': 'RB', 'team': 'MIN', 'height_in': None, 'weight_lb': None, 'age_on_draft_day': None}, '00-0037277': {'name': 'Teagan Quitoriano', 'rookie_year': 2022, 'position': 'TE', 'team': 'HOU', 'height_in': None, 'weight_lb': None, 'age_on_draft_day': None}, '00-0037282': {'name': 'James Mitchell', 'rookie_year': 2022, 'position': 'TE', 'team': 'DET', 'height_in': None, 'weight_lb': None, 'age_on_draft_day': None}, '00-0037286': {'name': 'Kevin Harris', 'rookie_year': 2022, 'position': 'RB', 'team': 'NE', 'height_in': None, 'weight_lb': None, 'age_on_draft_day': None}, '00-0037291': {'name': 'Jalen Nailor', 'rookie_year': 2022, 'position': 'WR', 'team': 'MIN', 'height_in': None, 'weight_lb': None, 'age_on_draft_day': None}, '00-0037292': {'name': 'Andrew Ogletree', 'rookie_year': 2022, 'position': 'TE', 'team': 'IND', 'height_in': None, 'weight_lb': None, 'age_on_draft_day': None}, '00-0037085': {'name': 'Tyler Badie', 'rookie_year': 2022, 'position': 'RB', 'team': 'DEN', 'height_in': None, 'weight_lb': None, 'age_on_draft_day': None}, '00-0037086': {'name': 'Grant Calcaterra', 'rookie_year': 2022, 'position': 'TE', 'team': 'PHI', 'height_in': None, 'weight_lb': None, 'age_on_draft_day': None}, '00-0037299': {'name': 'Keaontay Ingram', 'rookie_year': 2022, 'position': 'RB', 'team': 'ARI', 'height_in': None, 'weight_lb': None, 'age_on_draft_day': None}, '00-0037087': {'name': 'Trestan Ebner', 'rookie_year': 2022, 'position': 'RB', 'team': 'CHI', 'height_in': None, 'weight_lb': None, 'age_on_draft_day': None}, '00-0037304': {'name': 'Connor Heyward', 'rookie_year': 2022, 'position': 'TE', 'team': 'PIT', 'height_in': None, 'weight_lb': None, 'age_on_draft_day': None}, '00-0037306': {'name': 'John FitzPatrick', 'rookie_year': 2022, 'position': 'TE', 'team': 'ATL', 'height_in': None, 'weight_lb': None, 'age_on_draft_day': None}, '00-0037311': {'name': 'Ko Kieft', 'rookie_year': 2022, 'position': 'TE', 'team': 'TB', 'height_in': None, 'weight_lb': None, 'age_on_draft_day': None}, '00-0037317': {'name': 'Nick Muse', 'rookie_year': 2022, 'position': 'TE', 'team': 'MIN', 'height_in': None, 'weight_lb': None, 'age_on_draft_day': None}, '00-0037091': {'name': 'Bo Melton', 'rookie_year': 2022, 'position': 'WR', 'team': 'GB', 'height_in': None, 'weight_lb': None, 'age_on_draft_day': None}, '00-0037093': {'name': 'Dareke Young', 'rookie_year': 2022, 'position': 'WR', 'team': 'SEA', 'height_in': None, 'weight_lb': None, 'age_on_draft_day': None}, '00-0037324': {'name': 'Chris Oladokun', 'rookie_year': 2022, 'position': 'QB', 'team': 'KC', 'height_in': None, 'weight_lb': None, 'age_on_draft_day': None}, '00-0037327': {'name': 'Skylar Thompson', 'rookie_year': 2022, 'position': 'QB', 'team': 'MIA', 'height_in': None, 'weight_lb': None, 'age_on_draft_day': None}, '00-0037329': {'name': 'Brittain Brown', 'rookie_year': 2022, 'position': 'RB', 'team': 'LV', 'height_in': None, 'weight_lb': None, 'age_on_draft_day': None}, '00-0037197': {'name': 'Isiah Pacheco', 'rookie_year': 2022, 'position': 'RB', 'team': 'KC', 'height_in': None, 'weight_lb': None, 'age_on_draft_day': None}, '00-0037098': {'name': 'Samori Toure', 'rookie_year': 2022, 'position': 'WR', 'team': 'GB', 'height_in': None, 'weight_lb': None, 'age_on_draft_day': None}, '00-0037331': {'name': 'Zander Horvath', 'rookie_year': 2022, 'position': 'RB', 'team': 'LAC', 'height_in': None, 'weight_lb': None, 'age_on_draft_day': None}, '00-0037834': {'name': 'Brock Purdy', 'rookie_year': 2022, 'position': 'QB', 'team': 'SF', 'height_in': None, 'weight_lb': None, 'age_on_draft_day': None}, '00-0039150': {'name': 'Bryce Young', 'rookie_year': 2023, 'position': 'QB', 'team': 'CAR', 'height_in': None, 'weight_lb': None, 'age_on_draft_day': None}, '00-0039163': {'name': 'C.J. Stroud', 'rookie_year': 2023, 'position': 'QB', 'team': 'HOU', 'height_in': None, 'weight_lb': None, 'age_on_draft_day': None}, '00-0039164': {'name': 'Anthony Richardson', 'rookie_year': 2023, 'position': 'QB', 'team': 'IND', 'height_in': None, 'weight_lb': None, 'age_on_draft_day': None}, '00-0038542': {'name': 'Bijan Robinson', 'rookie_year': 2023, 'position': 'RB', 'team': 'ATL', 'height_in': None, 'weight_lb': None, 'age_on_draft_day': None}, '00-0039139': {'name': 'Jahmyr Gibbs', 'rookie_year': 2023, 'position': 'RB', 'team': 'DET', 'height_in': None, 'weight_lb': None, 'age_on_draft_day': None}, '00-0038543': {'name': 'Jaxon Smith-Njigba', 'rookie_year': 2023, 'position': 'WR', 'team': 'SEA', 'height_in': None, 'weight_lb': None, 'age_on_draft_day': None}, '00-0038544': {'name': 'Quentin Johnston', 'rookie_year': 2023, 'position': 'WR', 'team': 'LAC', 'height_in': None, 'weight_lb': None, 'age_on_draft_day': None}, '00-0039064': {'name': 'Zay Flowers', 'rookie_year': 2023, 'position': 'WR', 'team': 'BAL', 'height_in': None, 'weight_lb': None, 'age_on_draft_day': None}, '00-0038994': {'name': 'Jordan Addison', 'rookie_year': 2023, 'position': 'WR', 'team': 'MIN', 'height_in': None, 'weight_lb': None, 'age_on_draft_day': None}, '00-0038933': {'name': 'Dalton Kincaid', 'rookie_year': 2023, 'position': 'TE', 'team': 'BUF', 'height_in': None, 'weight_lb': None, 'age_on_draft_day': None}, '00-0039152': {'name': 'Will Levis', 'rookie_year': 2023, 'position': 'QB', 'team': 'TEN', 'height_in': None, 'weight_lb': None, 'age_on_draft_day': None}, '00-0039065': {'name': 'Sam LaPorta', 'rookie_year': 2023, 'position': 'TE', 'team': 'DET', 'height_in': None, 'weight_lb': None, 'age_on_draft_day': None}, '00-0039066': {'name': 'Michael Mayer', 'rookie_year': 2023, 'position': 'TE', 'team': 'LV', 'height_in': None, 'weight_lb': None, 'age_on_draft_day': None}, '00-0039062': {'name': 'Jonathan Mingo', 'rookie_year': 2023, 'position': 'WR', 'team': 'CAR', 'height_in': None, 'weight_lb': None, 'age_on_draft_day': None}, '00-0039144': {'name': 'Luke Musgrave', 'rookie_year': 2023, 'position': 'TE', 'team': 'GB', 'height_in': None, 'weight_lb': None, 'age_on_draft_day': None}, '00-0039146': {'name': 'Jayden Reed', 'rookie_year': 2023, 'position': 'WR', 'team': 'GB', 'height_in': None, 'weight_lb': None, 'age_on_draft_day': None}, '00-0039165': {'name': 'Zach Charbonnet', 'rookie_year': 2023, 'position': 'RB', 'team': 'SEA', 'height_in': None, 'weight_lb': None, 'age_on_draft_day': None}, '00-0039067': {'name': 'Rashee Rice', 'rookie_year': 2023, 'position': 'WR', 'team': 'KC', 'height_in': None, 'weight_lb': None, 'age_on_draft_day': None}, '00-0038547': {'name': 'Luke Schoonmaker', 'rookie_year': 2023, 'position': 'TE', 'team': 'DAL', 'height_in': None, 'weight_lb': None, 'age_on_draft_day': None}, '00-0038935': {'name': 'Brenton Strange', 'rookie_year': 2023, 'position': 'TE', 'team': 'JAX', 'height_in': None, 'weight_lb': None, 'age_on_draft_day': None}, '00-0038976': {'name': 'Marvin Mims', 'rookie_year': 2023, 'position': 'WR', 'team': 'DEN', 'height_in': None, 'weight_lb': None, 'age_on_draft_day': None}, '00-0038550': {'name': 'Hendon Hooker', 'rookie_year': 2023, 'position': 'QB', 'team': 'DET', 'height_in': None, 'weight_lb': None, 'age_on_draft_day': None}, '00-0038977': {'name': 'Tank Dell', 'rookie_year': 2023, 'position': 'WR', 'team': 'HOU', 'height_in': None, 'weight_lb': None, 'age_on_draft_day': None}, '00-0038551': {'name': 'Kendre Miller', 'rookie_year': 2023, 'position': 'RB', 'team': 'NO', 'height_in': None, 'weight_lb': None, 'age_on_draft_day': None}, '00-0038938': {'name': 'Jalin Hyatt', 'rookie_year': 2023, 'position': 'WR', 'team': 'NYG', 'height_in': None, 'weight_lb': None, 'age_on_draft_day': None}, '00-0038979': {'name': 'Cedric Tillman', 'rookie_year': 2023, 'position': 'WR', 'team': 'CLE', 'height_in': None, 'weight_lb': None, 'age_on_draft_day': None}, '00-0038996': {'name': 'Tucker Kraft', 'rookie_year': 2023, 'position': 'TE', 'team': 'GB', 'height_in': None, 'weight_lb': None, 'age_on_draft_day': None}, '00-0038997': {'name': 'Josh Downs', 'rookie_year': 2023, 'position': 'WR', 'team': 'IND', 'height_in': None, 'weight_lb': None, 'age_on_draft_day': None}, '00-0039032': {'name': 'Tyjae Spears', 'rookie_year': 2023, 'position': 'RB', 'team': 'TEN', 'height_in': None, 'weight_lb': None, 'age_on_draft_day': None}, '00-0039040': {'name': \"De'Von Achane\", 'rookie_year': 2023, 'position': 'RB', 'team': 'MIA', 'height_in': None, 'weight_lb': None, 'age_on_draft_day': None}, '00-0038555': {'name': 'Tank Bigsby', 'rookie_year': 2023, 'position': 'RB', 'team': 'JAX', 'height_in': None, 'weight_lb': None, 'age_on_draft_day': None}, '00-0038558': {'name': 'Darnell Washington', 'rookie_year': 2023, 'position': 'TE', 'team': 'PIT', 'height_in': None, 'weight_lb': None, 'age_on_draft_day': None}, '00-0038559': {'name': 'Michael Wilson', 'rookie_year': 2023, 'position': 'WR', 'team': 'ARI', 'height_in': None, 'weight_lb': None, 'age_on_draft_day': None}, '00-0038563': {'name': 'Tre Tucker', 'rookie_year': 2023, 'position': 'WR', 'team': 'LV', 'height_in': None, 'weight_lb': None, 'age_on_draft_day': None}, '00-0038564': {'name': 'Cameron Latu', 'rookie_year': 2023, 'position': 'TE', 'team': 'SF', 'height_in': None, 'weight_lb': None, 'age_on_draft_day': None}, '00-0039021': {'name': 'Roschon Johnson', 'rookie_year': 2023, 'position': 'RB', 'team': 'CHI', 'height_in': None, 'weight_lb': None, 'age_on_draft_day': None}, '00-0038573': {'name': 'Derius Davis', 'rookie_year': 2023, 'position': 'WR', 'team': 'LAC', 'height_in': None, 'weight_lb': None, 'age_on_draft_day': None}, '00-0038998': {'name': 'Jake Haener', 'rookie_year': 2023, 'position': 'QB', 'team': 'NO', 'height_in': None, 'weight_lb': None, 'age_on_draft_day': None}, '00-0039107': {'name': 'Stetson Bennett', 'rookie_year': 2023, 'position': 'QB', 'team': 'LA', 'height_in': None, 'weight_lb': None, 'age_on_draft_day': None}, '00-0038576': {'name': 'Charlie Jones', 'rookie_year': 2023, 'position': 'WR', 'team': 'CIN', 'height_in': None, 'weight_lb': None, 'age_on_draft_day': None}, '00-0038941': {'name': 'Tyler Scott', 'rookie_year': 2023, 'position': 'WR', 'team': 'CHI', 'height_in': None, 'weight_lb': None, 'age_on_draft_day': None}, '00-0038579': {'name': \"Aidan O'Connell\", 'rookie_year': 2023, 'position': 'QB', 'team': 'LV', 'height_in': None, 'weight_lb': None, 'age_on_draft_day': None}, '00-0038582': {'name': 'Clayton Tune', 'rookie_year': 2023, 'position': 'QB', 'team': 'ARI', 'height_in': None, 'weight_lb': None, 'age_on_draft_day': None}, '00-0038583': {'name': 'Dorian Thompson-Robinson', 'rookie_year': 2023, 'position': 'QB', 'team': 'CLE', 'height_in': None, 'weight_lb': None, 'age_on_draft_day': None}, '00-0038389': {'name': 'Israel Abanikanda', 'rookie_year': 2023, 'position': 'RB', 'team': 'NYJ', 'height_in': None, 'weight_lb': None, 'age_on_draft_day': None}, '00-0038589': {'name': 'Josh Whyle', 'rookie_year': 2023, 'position': 'TE', 'team': 'TEN', 'height_in': None, 'weight_lb': None, 'age_on_draft_day': None}, '00-0038391': {'name': 'Sean Clifford', 'rookie_year': 2023, 'position': 'QB', 'team': 'GB', 'height_in': None, 'weight_lb': None, 'age_on_draft_day': None}, '00-0038590': {'name': 'Justin Shorter', 'rookie_year': 2023, 'position': 'WR', 'team': 'BUF', 'height_in': None, 'weight_lb': None, 'age_on_draft_day': None}, '00-0038393': {'name': 'Dontayvion Wicks', 'rookie_year': 2023, 'position': 'WR', 'team': 'GB', 'height_in': None, 'weight_lb': None, 'age_on_draft_day': None}, '00-0038394': {'name': 'Will Mallory', 'rookie_year': 2023, 'position': 'TE', 'team': 'IND', 'height_in': None, 'weight_lb': None, 'age_on_draft_day': None}, '00-0038597': {'name': 'Chase Brown', 'rookie_year': 2023, 'position': 'RB', 'team': 'CIN', 'height_in': None, 'weight_lb': None, 'age_on_draft_day': None}, '00-0038598': {'name': 'Jaren Hall', 'rookie_year': 2023, 'position': 'QB', 'team': 'MIN', 'height_in': None, 'weight_lb': None, 'age_on_draft_day': None}, '00-0039050': {'name': 'Payne Durham', 'rookie_year': 2023, 'position': 'TE', 'team': 'TB', 'height_in': None, 'weight_lb': None, 'age_on_draft_day': None}, '00-0038396': {'name': 'Eric Gray', 'rookie_year': 2023, 'position': 'RB', 'team': 'NYG', 'height_in': None, 'weight_lb': None, 'age_on_draft_day': None}, '00-0039074': {'name': 'Davis Allen', 'rookie_year': 2023, 'position': 'TE', 'team': 'LA', 'height_in': None, 'weight_lb': None, 'age_on_draft_day': None}, '00-0038397': {'name': 'Evan Hull', 'rookie_year': 2023, 'position': 'RB', 'team': 'IND', 'height_in': None, 'weight_lb': None, 'age_on_draft_day': None}, '00-0039075': {'name': 'Puka Nacua', 'rookie_year': 2023, 'position': 'WR', 'team': 'LA', 'height_in': None, 'weight_lb': None, 'age_on_draft_day': None}, '00-0038606': {'name': 'Parker Washington', 'rookie_year': 2023, 'position': 'WR', 'team': 'JAX', 'height_in': None, 'weight_lb': None, 'age_on_draft_day': None}, '00-0038608': {'name': 'Kayshon Boutte', 'rookie_year': 2023, 'position': 'WR', 'team': 'NE', 'height_in': None, 'weight_lb': None, 'age_on_draft_day': None}, '00-0038400': {'name': 'Tanner McKee', 'rookie_year': 2023, 'position': 'QB', 'team': 'PHI', 'height_in': None, 'weight_lb': None, 'age_on_draft_day': None}, '00-0039052': {'name': 'Trey Palmer', 'rookie_year': 2023, 'position': 'WR', 'team': 'TB', 'height_in': None, 'weight_lb': None, 'age_on_draft_day': None}, '00-0038611': {'name': 'Chris Rodriguez', 'rookie_year': 2023, 'position': 'RB', 'team': 'WAS', 'height_in': None, 'weight_lb': None, 'age_on_draft_day': None}, '00-0038612': {'name': 'A.T. Perry', 'rookie_year': 2023, 'position': 'WR', 'team': 'NO', 'height_in': None, 'weight_lb': None, 'age_on_draft_day': None}, '00-0039041': {'name': 'Elijah Higgins', 'rookie_year': 2023, 'position': 'TE', 'team': 'ARI', 'height_in': None, 'weight_lb': None, 'age_on_draft_day': None}, '00-0038618': {'name': 'Xavier Hutchinson', 'rookie_year': 2023, 'position': 'WR', 'team': 'HOU', 'height_in': None, 'weight_lb': None, 'age_on_draft_day': None}, '00-0038619': {'name': 'Andrei Iosivas', 'rookie_year': 2023, 'position': 'WR', 'team': 'CIN', 'height_in': None, 'weight_lb': None, 'age_on_draft_day': None}, '00-0038621': {'name': 'Demario Douglas', 'rookie_year': 2023, 'position': 'WR', 'team': 'NE', 'height_in': None, 'weight_lb': None, 'age_on_draft_day': None}, '00-0038622': {'name': 'Deuce Vaughn', 'rookie_year': 2023, 'position': 'RB', 'team': 'DAL', 'height_in': None, 'weight_lb': None, 'age_on_draft_day': None}, '00-0039136': {'name': 'Zach Evans', 'rookie_year': 2023, 'position': 'RB', 'team': 'LA', 'height_in': None, 'weight_lb': None, 'age_on_draft_day': None}, '00-0038627': {'name': 'Antoine Green', 'rookie_year': 2023, 'position': 'WR', 'team': 'DET', 'height_in': None, 'weight_lb': None, 'age_on_draft_day': None}, '00-0038406': {'name': 'Zack Kuntz', 'rookie_year': 2023, 'position': 'TE', 'team': 'NYJ', 'height_in': None, 'weight_lb': None, 'age_on_draft_day': None}, '00-0039046': {'name': 'DeWayne McBride', 'rookie_year': 2023, 'position': 'RB', 'team': 'MIN', 'height_in': None, 'weight_lb': None, 'age_on_draft_day': None}, '00-0038632': {'name': 'Colton Dowell', 'rookie_year': 2023, 'position': 'WR', 'team': 'TEN', 'height_in': None, 'weight_lb': None, 'age_on_draft_day': None}, '00-0038409': {'name': 'Lew Nichols', 'rookie_year': 2023, 'position': 'RB', 'team': 'PHI', 'height_in': None, 'weight_lb': None, 'age_on_draft_day': None}, '00-0038636': {'name': 'Kenny McIntosh', 'rookie_year': 2023, 'position': 'RB', 'team': 'SEA', 'height_in': None, 'weight_lb': None, 'age_on_draft_day': None}, '00-0038637': {'name': 'Max Duggan', 'rookie_year': 2023, 'position': 'QB', 'team': 'LAC', 'height_in': None, 'weight_lb': None, 'age_on_draft_day': None}, '00-0038640': {'name': 'Jalen Brooks', 'rookie_year': 2023, 'position': 'WR', 'team': 'DAL', 'height_in': None, 'weight_lb': None, 'age_on_draft_day': None}, '00-0038643': {'name': 'Brayden Willis', 'rookie_year': 2023, 'position': 'TE', 'team': 'SF', 'height_in': None, 'weight_lb': None, 'age_on_draft_day': None}, '00-0038647': {'name': 'Ronnie Bell', 'rookie_year': 2023, 'position': 'WR', 'team': 'SF', 'height_in': None, 'weight_lb': None, 'age_on_draft_day': None}, '00-0039918': {'name': 'Caleb Williams', 'rookie_year': 2024, 'position': 'QB', 'team': 'CHI', 'height_in': None, 'weight_lb': None, 'age_on_draft_day': None}, '00-0039910': {'name': 'Jayden Daniels', 'rookie_year': 2024, 'position': 'QB', 'team': 'WAS', 'height_in': None, 'weight_lb': None, 'age_on_draft_day': None}, '00-0039851': {'name': 'Drake Maye', 'rookie_year': 2024, 'position': 'QB', 'team': 'NE', 'height_in': None, 'weight_lb': None, 'age_on_draft_day': None}, '00-0039849': {'name': 'Marvin Harrison Jr.', 'rookie_year': 2024, 'position': 'WR', 'team': 'ARI', 'height_in': None, 'weight_lb': None, 'age_on_draft_day': None}, '00-0039337': {'name': 'Malik Nabers', 'rookie_year': 2024, 'position': 'WR', 'team': 'NYG', 'height_in': None, 'weight_lb': None, 'age_on_draft_day': None}, '00-0039919': {'name': 'Rome Odunze', 'rookie_year': 2024, 'position': 'WR', 'team': 'CHI', 'height_in': None, 'weight_lb': None, 'age_on_draft_day': None}, '00-0039923': {'name': 'J.J. McCarthy', 'rookie_year': 2024, 'position': 'QB', 'team': 'MIN', 'height_in': None, 'weight_lb': None, 'age_on_draft_day': None}, '00-0039732': {'name': 'Bo Nix', 'rookie_year': 2024, 'position': 'QB', 'team': 'DEN', 'height_in': None, 'weight_lb': None, 'age_on_draft_day': None}, '00-0039338': {'name': 'Brock Bowers', 'rookie_year': 2024, 'position': 'TE', 'team': 'LV', 'height_in': None, 'weight_lb': None, 'age_on_draft_day': None}, '00-0039894': {'name': 'Xavier Worthy', 'rookie_year': 2024, 'position': 'WR', 'team': 'KC', 'height_in': None, 'weight_lb': None, 'age_on_draft_day': None}, '00-0039916': {'name': 'Ricky Pearsall', 'rookie_year': 2024, 'position': 'WR', 'team': 'SF', 'height_in': None, 'weight_lb': None, 'age_on_draft_day': None}, '00-0039342': {'name': 'Xavier Legette', 'rookie_year': 2024, 'position': 'WR', 'team': 'CAR', 'height_in': None, 'weight_lb': None, 'age_on_draft_day': None}, '00-0039901': {'name': 'Keon Coleman', 'rookie_year': 2024, 'position': 'WR', 'team': 'BUF', 'height_in': None, 'weight_lb': None, 'age_on_draft_day': None}, '00-0039915': {'name': 'Ladd McConkey', 'rookie_year': 2024, 'position': 'WR', 'team': 'LAC', 'height_in': None, 'weight_lb': None, 'age_on_draft_day': None}, '00-0039907': {'name': \"Ja'Lynn Polk\", 'rookie_year': 2024, 'position': 'WR', 'team': 'NE', 'height_in': None, 'weight_lb': None, 'age_on_draft_day': None}, '00-0039344': {'name': 'Jonathon Brooks', 'rookie_year': 2024, 'position': 'RB', 'team': 'CAR', 'height_in': None, 'weight_lb': None, 'age_on_draft_day': None}, '00-0039890': {'name': 'Adonai Mitchell', 'rookie_year': 2024, 'position': 'WR', 'team': 'IND', 'height_in': None, 'weight_lb': None, 'age_on_draft_day': None}, '00-0039912': {'name': 'Ben Sinnott', 'rookie_year': 2024, 'position': 'TE', 'team': 'WAS', 'height_in': None, 'weight_lb': None, 'age_on_draft_day': None}, '00-0039920': {'name': 'Malachi Corley', 'rookie_year': 2024, 'position': 'WR', 'team': 'NYJ', 'height_in': None, 'weight_lb': None, 'age_on_draft_day': None}, '00-0039921': {'name': 'Trey Benson', 'rookie_year': 2024, 'position': 'RB', 'team': 'ARI', 'height_in': None, 'weight_lb': None, 'age_on_draft_day': None}, '00-0039810': {'name': 'Jermaine Burton', 'rookie_year': 2024, 'position': 'WR', 'team': 'CIN', 'height_in': None, 'weight_lb': None, 'age_on_draft_day': None}, '00-0039737': {'name': 'Tip Reiman', 'rookie_year': 2024, 'position': 'TE', 'team': 'ARI', 'height_in': None, 'weight_lb': None, 'age_on_draft_day': None}, '00-0039738': {'name': 'Blake Corum', 'rookie_year': 2024, 'position': 'RB', 'team': 'LA', 'height_in': None, 'weight_lb': None, 'age_on_draft_day': None}, '00-0039739': {'name': 'Roman Wilson', 'rookie_year': 2024, 'position': 'WR', 'team': 'PIT', 'height_in': None, 'weight_lb': None, 'age_on_draft_day': None}, '00-0039811': {'name': 'MarShawn Lloyd', 'rookie_year': 2024, 'position': 'RB', 'team': 'GB', 'height_in': None, 'weight_lb': None, 'age_on_draft_day': None}, '00-0039855': {'name': 'Jalen McMillan', 'rookie_year': 2024, 'position': 'WR', 'team': 'TB', 'height_in': None, 'weight_lb': None, 'age_on_draft_day': None}, '00-0039355': {'name': 'Luke McCaffrey', 'rookie_year': 2024, 'position': 'WR', 'team': 'WAS', 'height_in': None, 'weight_lb': None, 'age_on_draft_day': None}, '00-0039356': {'name': \"Ja'Tavion Sanders\", 'rookie_year': 2024, 'position': 'TE', 'team': 'CAR', 'height_in': None, 'weight_lb': None, 'age_on_draft_day': None}, '00-0039868': {'name': 'Troy Franklin', 'rookie_year': 2024, 'position': 'WR', 'team': 'DEN', 'height_in': None, 'weight_lb': None, 'age_on_draft_day': None}, '00-0039847': {'name': 'Theo Johnson', 'rookie_year': 2024, 'position': 'TE', 'team': 'NYG', 'height_in': None, 'weight_lb': None, 'age_on_draft_day': None}, '00-0039853': {'name': 'Javon Baker', 'rookie_year': 2024, 'position': 'WR', 'team': 'NE', 'height_in': None, 'weight_lb': None, 'age_on_draft_day': None}, '00-0039792': {'name': 'Devontez Walker', 'rookie_year': 2024, 'position': 'WR', 'team': 'BAL', 'height_in': None, 'weight_lb': None, 'age_on_draft_day': None}, '00-0039814': {'name': 'Erick All', 'rookie_year': 2024, 'position': 'TE', 'team': 'CIN', 'height_in': None, 'weight_lb': None, 'age_on_draft_day': None}, '00-0039874': {'name': 'Jaylen Wright', 'rookie_year': 2024, 'position': 'RB', 'team': 'MIA', 'height_in': None, 'weight_lb': None, 'age_on_draft_day': None}, '00-0039793': {'name': 'AJ Barner', 'rookie_year': 2024, 'position': 'TE', 'team': 'SEA', 'height_in': None, 'weight_lb': None, 'age_on_draft_day': None}, '00-0039359': {'name': 'Cade Stover', 'rookie_year': 2024, 'position': 'TE', 'team': 'HOU', 'height_in': None, 'weight_lb': None, 'age_on_draft_day': None}, '00-0039361': {'name': 'Bucky Irving', 'rookie_year': 2024, 'position': 'RB', 'team': 'TB', 'height_in': None, 'weight_lb': None, 'age_on_draft_day': None}, '00-0039746': {'name': 'Will Shipley', 'rookie_year': 2024, 'position': 'RB', 'team': 'PHI', 'height_in': None, 'weight_lb': None, 'age_on_draft_day': None}, '00-0039875': {'name': 'Ray Davis', 'rookie_year': 2024, 'position': 'RB', 'team': 'BUF', 'height_in': None, 'weight_lb': None, 'age_on_draft_day': None}, '00-0039363': {'name': 'Isaac Guerendo', 'rookie_year': 2024, 'position': 'RB', 'team': 'SF', 'height_in': None, 'weight_lb': None, 'age_on_draft_day': None}, '00-0039824': {'name': 'Jared Wiley', 'rookie_year': 2024, 'position': 'TE', 'team': 'KC', 'height_in': None, 'weight_lb': None, 'age_on_draft_day': None}, '00-0039794': {'name': 'Braelon Allen', 'rookie_year': 2024, 'position': 'RB', 'team': 'NYJ', 'height_in': None, 'weight_lb': None, 'age_on_draft_day': None}, '00-0039365': {'name': 'Jacob Cowing', 'rookie_year': 2024, 'position': 'WR', 'team': 'SF', 'height_in': None, 'weight_lb': None, 'age_on_draft_day': None}, '00-0039816': {'name': 'Anthony Gould', 'rookie_year': 2024, 'position': 'WR', 'team': 'IND', 'height_in': None, 'weight_lb': None, 'age_on_draft_day': None}, '00-0039376': {'name': 'Spencer Rattler', 'rookie_year': 2024, 'position': 'QB', 'team': 'NO', 'height_in': None, 'weight_lb': None, 'age_on_draft_day': None}, '00-0039747': {'name': 'Ainias Smith', 'rookie_year': 2024, 'position': 'WR', 'team': 'PHI', 'height_in': None, 'weight_lb': None, 'age_on_draft_day': None}, '00-0039379': {'name': 'Jamari Thrash', 'rookie_year': 2024, 'position': 'WR', 'team': 'CLE', 'height_in': None, 'weight_lb': None, 'age_on_draft_day': None}, '00-0039796': {'name': 'Rasheen Ali', 'rookie_year': 2024, 'position': 'RB', 'team': 'BAL', 'height_in': None, 'weight_lb': None, 'age_on_draft_day': None}, '00-0039384': {'name': 'Tyrone Tracy Jr.', 'rookie_year': 2024, 'position': 'RB', 'team': 'NYG', 'height_in': None, 'weight_lb': None, 'age_on_draft_day': None}, '00-0039385': {'name': 'Keilan Robinson', 'rookie_year': 2024, 'position': 'RB', 'team': 'JAX', 'height_in': None, 'weight_lb': None, 'age_on_draft_day': None}, '00-0039386': {'name': 'Bub Means', 'rookie_year': 2024, 'position': 'WR', 'team': 'NO', 'height_in': None, 'weight_lb': None, 'age_on_draft_day': None}, '00-0039797': {'name': 'Jordan Travis', 'rookie_year': 2024, 'position': 'QB', 'team': 'NYJ', 'height_in': None, 'weight_lb': None, 'age_on_draft_day': None}, '00-0039798': {'name': 'Isaiah Davis', 'rookie_year': 2024, 'position': 'RB', 'team': 'NYJ', 'height_in': None, 'weight_lb': None, 'age_on_draft_day': None}, '00-0039391': {'name': 'Kimani Vidal', 'rookie_year': 2024, 'position': 'RB', 'team': 'LAC', 'height_in': None, 'weight_lb': None, 'age_on_draft_day': None}, '00-0039392': {'name': \"Jha'Quan Jackson\", 'rookie_year': 2024, 'position': 'WR', 'team': 'TEN', 'height_in': None, 'weight_lb': None, 'age_on_draft_day': None}, '00-0039880': {'name': 'Malik Washington', 'rookie_year': 2024, 'position': 'WR', 'team': 'MIA', 'height_in': None, 'weight_lb': None, 'age_on_draft_day': None}, '00-0039236': {'name': 'Johnny Wilson', 'rookie_year': 2024, 'position': 'WR', 'team': 'PHI', 'height_in': None, 'weight_lb': None, 'age_on_draft_day': None}, '00-0039393': {'name': 'Jase McClellan', 'rookie_year': 2024, 'position': 'RB', 'team': 'ATL', 'height_in': None, 'weight_lb': None, 'age_on_draft_day': None}, '00-0039394': {'name': 'Casey Washington', 'rookie_year': 2024, 'position': 'WR', 'team': 'ATL', 'height_in': None, 'weight_lb': None, 'age_on_draft_day': None}, '00-0039397': {'name': 'Tejhaun Palmer', 'rookie_year': 2024, 'position': 'WR', 'team': 'ARI', 'height_in': None, 'weight_lb': None, 'age_on_draft_day': None}, '00-0039399': {'name': 'Tanner McLachlan', 'rookie_year': 2024, 'position': 'TE', 'team': 'CIN', 'height_in': None, 'weight_lb': None, 'age_on_draft_day': None}, '00-0039405': {'name': 'Jawhar Jordan', 'rookie_year': 2024, 'position': 'RB', 'team': 'HOU', 'height_in': None, 'weight_lb': None, 'age_on_draft_day': None}, '00-0039407': {'name': 'Dylan Laube', 'rookie_year': 2024, 'position': 'RB', 'team': 'LV', 'height_in': None, 'weight_lb': None, 'age_on_draft_day': None}, '00-0039751': {'name': 'Jordan Whittington', 'rookie_year': 2024, 'position': 'WR', 'team': 'LA', 'height_in': None, 'weight_lb': None, 'age_on_draft_day': None}, '00-0039410': {'name': 'Ryan Flournoy', 'rookie_year': 2024, 'position': 'WR', 'team': 'DAL', 'height_in': None, 'weight_lb': None, 'age_on_draft_day': None}, '00-0039801': {'name': 'Devin Leary', 'rookie_year': 2024, 'position': 'QB', 'team': 'BAL', 'height_in': None, 'weight_lb': None, 'age_on_draft_day': None}, '00-0039415': {'name': 'Brenden Rice', 'rookie_year': 2024, 'position': 'WR', 'team': 'LAC', 'height_in': None, 'weight_lb': None, 'age_on_draft_day': None}, '00-0039420': {'name': 'Jaheim Bell', 'rookie_year': 2024, 'position': 'TE', 'team': 'NE', 'height_in': None, 'weight_lb': None, 'age_on_draft_day': None}, '00-0039424': {'name': 'Devaughn Vele', 'rookie_year': 2024, 'position': 'WR', 'team': 'DEN', 'height_in': None, 'weight_lb': None, 'age_on_draft_day': None}, '00-0039884': {'name': 'Tahj Washington', 'rookie_year': 2024, 'position': 'WR', 'team': 'MIA', 'height_in': None, 'weight_lb': None, 'age_on_draft_day': None}, '00-0039238': {'name': 'Michael Pratt', 'rookie_year': 2024, 'position': 'QB', 'team': 'TB', 'height_in': None, 'weight_lb': None, 'age_on_draft_day': None}, '00-0039754': {'name': 'Devin Culp', 'rookie_year': 2024, 'position': 'TE', 'team': 'TB', 'height_in': None, 'weight_lb': None, 'age_on_draft_day': None}, '00-0039437': {'name': 'Cornelius Johnson', 'rookie_year': 2024, 'position': 'WR', 'team': 'GB', 'height_in': None, 'weight_lb': None, 'age_on_draft_day': None}}\n"
     ]
    }
   ],
   "source": [
    "names = [\"Patrick Mahomes\", \"C.J. Stroud\", \"Justin Jefferson\"]\n",
    "years = [2017, 2023, 2022]\n",
    "\n",
    "player_map = get_player_id_map(df[\"name\"], df[\"draft_year\"])\n",
    "print(player_map)"
   ]
  },
  {
   "cell_type": "code",
   "execution_count": 68,
   "id": "00cbdd64",
   "metadata": {},
   "outputs": [],
   "source": [
    "def fill_master_with_player_info(master_df: pd.DataFrame, player_map: dict) -> pd.DataFrame:\n",
    "    \"\"\"\n",
    "    Fill in player_id and other info in master DataFrame from player_map\n",
    "    \"\"\"\n",
    "    master_df = master_df.copy()\n",
    "    \n",
    "    # Create DataFrame from player_map\n",
    "    player_info_df = pd.DataFrame.from_dict(player_map, orient='index')\n",
    "    player_info_df.reset_index(inplace=True)\n",
    "    player_info_df.rename(columns={\"index\": \"player_id\"}, inplace=True)\n",
    "    \n",
    "    # Merge with master on 'name'\n",
    "    merged_df = master_df.merge(player_info_df, on=\"name\", how=\"left\")\n",
    "    \n",
    "    return merged_df\n"
   ]
  },
  {
   "cell_type": "code",
   "execution_count": 69,
   "id": "16ebff2c",
   "metadata": {},
   "outputs": [],
   "source": [
    "df = fill_master_with_player_info(df, player_map)"
   ]
  },
  {
   "cell_type": "code",
   "execution_count": 70,
   "id": "c08207a2",
   "metadata": {},
   "outputs": [],
   "source": [
    "# Get player stats for specific season\n",
    "def get_rookie_stats(player_info_map: dict):\n",
    "    all_stats = []\n",
    "    \n",
    "    for player_id, info in player_info_map.items():\n",
    "        rookie_year = info[\"rookie_year\"]\n",
    "        seasonal_stats = nfl.import_seasonal_data([rookie_year])\n",
    "        \n",
    "        player_stats = seasonal_stats[seasonal_stats[\"player_id\"] == player_id].copy()\n",
    "        player_stats[\"player_name\"] = info[\"name\"]\n",
    "        player_stats[\"position\"] = info[\"position\"]\n",
    "        player_stats[\"team\"] = info[\"team\"]\n",
    "        all_stats.append(player_stats)\n",
    "    \n",
    "    # Combine all players into a single DataFrame\n",
    "    return pd.concat(all_stats, ignore_index=True)"
   ]
  },
  {
   "cell_type": "code",
   "execution_count": 71,
   "id": "a7dbac0c",
   "metadata": {},
   "outputs": [
    {
     "name": "stdout",
     "output_type": "stream",
     "text": [
      "    player_id  season season_type  completions  attempts  passing_yards  \\\n",
      "0  00-0036442    2020         REG          264       404         2688.0   \n",
      "1  00-0036212    2020         REG          186       290         1814.0   \n",
      "2  00-0036355    2020         REG          396       595         4336.0   \n",
      "3  00-0036407    2020         REG            0         0            0.0   \n",
      "4  00-0036358    2020         REG            0         0            0.0   \n",
      "\n",
      "   passing_tds  interceptions  sacks  sack_yards  ...    rtd_sh    rfd_sh  \\\n",
      "0           13            5.0   32.0       231.0  ...  0.000000  0.000000   \n",
      "1           11            5.0   20.0       136.0  ...  0.000000  0.000000   \n",
      "2           31           10.0   32.0       218.0  ...  0.000000  0.000000   \n",
      "3            0            0.0    0.0         0.0  ...  0.142857  0.221591   \n",
      "4            0            0.0    1.0         4.0  ...  0.200000  0.199134   \n",
      "\n",
      "   rtdfd_sh       dom     w8dom    yptmpa    ppr_sh     player_name  position  \\\n",
      "0  0.000000  0.000000  0.000000  0.000000  0.190763      Joe Burrow        QB   \n",
      "1  0.000000  0.000000  0.000000  0.000000  0.159489  Tua Tagovailoa        QB   \n",
      "2  0.000000  0.000000  0.000000  0.000000  0.218758  Justin Herbert        QB   \n",
      "3  0.213198  0.187955  0.215013  1.539568  0.124780     Jerry Jeudy        WR   \n",
      "4  0.199219  0.203636  0.205817  1.463224  0.143098     CeeDee Lamb        WR   \n",
      "\n",
      "   team  \n",
      "0   CIN  \n",
      "1   MIA  \n",
      "2   LAC  \n",
      "3   DEN  \n",
      "4   DAL  \n",
      "\n",
      "[5 rows x 61 columns]\n"
     ]
    }
   ],
   "source": [
    "rookie_stats = get_rookie_stats(player_map)\n",
    "\n",
    "print(rookie_stats[:5])"
   ]
  },
  {
   "cell_type": "code",
   "execution_count": 28,
   "id": "099f016a",
   "metadata": {},
   "outputs": [
    {
     "name": "stdout",
     "output_type": "stream",
     "text": [
      "Available columns:\n",
      "['player_id', 'season', 'season_type', 'completions', 'attempts', 'passing_yards', 'passing_tds', 'interceptions', 'sacks', 'sack_yards', 'sack_fumbles', 'sack_fumbles_lost', 'passing_air_yards', 'passing_yards_after_catch', 'passing_first_downs', 'passing_epa', 'passing_2pt_conversions', 'pacr', 'dakota', 'carries', 'rushing_yards', 'rushing_tds', 'rushing_fumbles', 'rushing_fumbles_lost', 'rushing_first_downs', 'rushing_epa', 'rushing_2pt_conversions', 'receptions', 'targets', 'receiving_yards', 'receiving_tds', 'receiving_fumbles', 'receiving_fumbles_lost', 'receiving_air_yards', 'receiving_yards_after_catch', 'receiving_first_downs', 'receiving_epa', 'receiving_2pt_conversions', 'racr', 'target_share', 'air_yards_share', 'wopr_x', 'special_teams_tds', 'fantasy_points', 'fantasy_points_ppr', 'games', 'tgt_sh', 'ay_sh', 'yac_sh', 'wopr_y', 'ry_sh', 'rtd_sh', 'rfd_sh', 'rtdfd_sh', 'dom', 'w8dom', 'yptmpa', 'ppr_sh']\n",
      "['season', 'team', 'position', 'depth_chart_position', 'jersey_number', 'status', 'player_name', 'first_name', 'last_name', 'birth_date', 'height', 'weight', 'college', 'player_id', 'espn_id', 'sportradar_id', 'yahoo_id', 'rotowire_id', 'pff_id', 'pfr_id', 'fantasy_data_id', 'sleeper_id', 'years_exp', 'headshot_url', 'ngs_position', 'week', 'game_type', 'status_description_abbr', 'football_name', 'esb_id', 'gsis_it_id', 'smart_id', 'entry_year', 'rookie_year', 'draft_club', 'draft_number', 'age']\n"
     ]
    }
   ],
   "source": [
    "# First, let's see what columns are available\n",
    "seasonal_stats = nfl.import_seasonal_data([2023])\n",
    "print(\"Available columns:\")\n",
    "print(seasonal_stats.columns.tolist())\n",
    "roster_data = nfl.import_seasonal_rosters([2023])\n",
    "print(roster_data.columns.tolist())"
   ]
  },
  {
   "cell_type": "markdown",
   "id": "39351314",
   "metadata": {},
   "source": [
    "## Fantasy Scoring \n",
    "Assumptions for Half-PPR + TE Premium: \n",
    "- Passing TD: 4 points\n",
    "- Passing Yards: 1 point per 25 yards\n",
    "- Interceptions: -2 points\n",
    "- Rushing TD: 6 points\n",
    "- Rushing Yards: 1 point per 10 yards\n",
    "- Receptions: 0.5 points (Half PPR)\n",
    "- Receiving TD: 6 points\n",
    "- Receiving Yards: 1 point per 10 yards\n",
    "- Fumbles Lost: -2 points\n",
    "- Tight End Premium: +1 point per reception if the player is a TE"
   ]
  },
  {
   "cell_type": "code",
   "execution_count": 26,
   "id": "7867a9e1",
   "metadata": {},
   "outputs": [],
   "source": [
    "def calculate_halfppr_tep(stats: pd.DataFrame) -> pd.DataFrame:\n",
    "    \"\"\"\n",
    "    Calculate Half-PPR fantasy points with Tight End Premium.\n",
    "\n",
    "    Args:\n",
    "        stats: Seasonal stats including player_id, position, receptions, etc.\n",
    "\n",
    "    Returns:\n",
    "        pd.DataFrame: Original DataFrame with new 'fantasy_points_halfppr_tep' column\n",
    "    \"\"\"\n",
    "    df = stats.copy()\n",
    "    \n",
    "    # Base fantasy points\n",
    "    df['fantasy_points_halfppr_tep'] = (\n",
    "        df.get('passing_yards', 0) / 25 +\n",
    "        df.get('passing_tds', 0) * 4 +\n",
    "        df.get('interceptions', 0) * -2 +\n",
    "        df.get('rushing_yards', 0) / 10 +\n",
    "        df.get('rushing_tds', 0) * 6 +\n",
    "        df.get('receiving_yards', 0) / 10 +\n",
    "        df.get('receiving_tds', 0) * 6 +\n",
    "        df.get('receptions', 0) * 0.5 +\n",
    "        df.get('rushing_fumbles_lost', 0) * -2 +\n",
    "        df.get('receiving_fumbles_lost', 0) * -2\n",
    "    )\n",
    "    \n",
    "    # Tight End Premium: +1 point per reception for TEs\n",
    "    if 'position' in df.columns:\n",
    "        df.loc[df['position'] == 'TE', 'fantasy_points_halfppr_tep'] += df.loc[df['position'] == 'TE', 'receptions']\n",
    "    \n",
    "    return df\n"
   ]
  },
  {
   "cell_type": "code",
   "execution_count": 34,
   "id": "bf763036",
   "metadata": {},
   "outputs": [
    {
     "name": "stdout",
     "output_type": "stream",
     "text": [
      "        player_name position  fantasy_points_halfppr_tep\n",
      "0   Patrick Mahomes       QB                       10.36\n",
      "1  Justin Jefferson       WR                      302.66\n"
     ]
    }
   ],
   "source": [
    "rookie_fnt_pts = calculate_halfppr_tep(rookie_stats)\n",
    "print(rookie_fnt_pts[['player_name', 'position', 'fantasy_points_halfppr_tep']])"
   ]
  },
  {
   "cell_type": "markdown",
   "id": "b9ec3ab3",
   "metadata": {},
   "source": [
    "## Add Rookie Data to master data frame  "
   ]
  },
  {
   "cell_type": "code",
   "execution_count": null,
   "id": "bafe3c8f",
   "metadata": {},
   "outputs": [],
   "source": [
    "def add_rookie_stats_to_master(master_df: pd.DataFrame, rookie_stats: pd.DataFrame) -> pd.DataFrame:\n",
    "    \"\"\"\n",
    "    Only adds the following stats:\n",
    "    Rec, RushYds, RecYds, PassYds, RushTD, RecTD, PassTD, Fumbles, INT\n",
    "\n",
    "    \"\"\"\n",
    "    # Select relevant columns from rookie stats\n",
    "    rookie_columns_map = {\n",
    "        'receptions': 'Rec',\n",
    "        'rushing_yards': 'RushYds',\n",
    "        'receiving_yards': 'RecYds',\n",
    "        'passing_yards': 'PassYds',\n",
    "        'rushing_tds': 'RushTD',\n",
    "        'receiving_tds': 'RecTD',\n",
    "        'passing_tds': 'PassTD',\n",
    "        'rushing_fumbles_lost': 'Fumbles',\n",
    "        'receiving_fumbles_lost': 'Fumbles',  # Combine fumbles into single column\n",
    "        'interceptions': 'INT'\n",
    "    }\n",
    "\n",
    "    # Copy rookie stats to avoid modifying original\n",
    "    rookie_copy = rookie_stats.copy()\n",
    "\n",
    "    # Combine fumbles from rushing and receiving\n",
    "    rookie_copy['Fumbles'] = rookie_copy.get('rushing_fumbles_lost', 0) + rookie_copy.get('receiving_fumbles_lost', 0)\n",
    "\n",
    "    # Build new DataFrame with player_id + mapped columns\n",
    "    rookie_for_merge = pd.DataFrame({'player_id': rookie_copy['player_id']})\n",
    "    \n",
    "    for col, new_col in rookie_columns_map.items():\n",
    "        if col in rookie_copy.columns:\n",
    "            rookie_for_merge[new_col] = rookie_copy[col]\n",
    "\n",
    "    # Drop duplicates in case a stat was counted twice (like fumbles)\n",
    "    rookie_for_merge = rookie_for_merge.groupby('player_id', as_index=False).sum()\n",
    "\n",
    "    # Merge rookie stats into master df on player_id\n",
    "    merged_df = master_df.merge(rookie_for_merge, on='player_id', how='left')\n",
    "\n",
    "    return merged_df\n"
   ]
  },
  {
   "cell_type": "markdown",
   "id": "a94567d9",
   "metadata": {},
   "source": [
    "## College Stats: Using CFBD API\n",
    "https://api.collegefootballdata.com/#/"
   ]
  },
  {
   "cell_type": "code",
   "execution_count": 74,
   "id": "eb252f60",
   "metadata": {},
   "outputs": [],
   "source": [
    "\n",
    "API_KEY = \"jhx47mf3+GY8ZsAD51GHBMi7THo3VtKVg6MXZ+AkXNsvS+MoM0/5qz+F3N5hjS7B\"\n",
    "BASE_URL = \"https://api.collegefootballdata.com\"\n",
    "HEADERS = {\"Authorization\": f\"Bearer {API_KEY}\"}\n"
   ]
  },
  {
   "cell_type": "code",
   "execution_count": 86,
   "id": "35ff00b1",
   "metadata": {},
   "outputs": [],
   "source": [
    "def get_player_season_stats(year: int, team: str = None, position: str = None) -> pd.DataFrame:\n",
    "    \"\"\"Pull season-level stats for all players in a given year.\"\"\"\n",
    "    url = f\"{BASE_URL}/stats/player/season\"\n",
    "    params = {\"year\": year}\n",
    "    if team: params[\"team\"] = team\n",
    "    if position: params[\"position\"] = position\n",
    "    \n",
    "    r = requests.get(url, headers=HEADERS, params=params)\n",
    "    df = pd.DataFrame(r.json())\n",
    "    \n",
    "    # Convert stat (string) to numeric\n",
    "    df[\"stat\"] = pd.to_numeric(df[\"stat\"], errors=\"coerce\")\n",
    "    \n",
    "    df_wide = df.pivot_table(\n",
    "        index=[\"playerId\", \"player\", \"position\", \"team\", \"conference\"],\n",
    "        columns=\"statType\",\n",
    "        values=\"stat\",\n",
    "        aggfunc=\"sum\"   # if multiple rows per statType, sum them\n",
    "    ).reset_index()\n",
    "    \n",
    "    return df_wide"
   ]
  },
  {
   "cell_type": "code",
   "execution_count": null,
   "id": "47b80e05",
   "metadata": {},
   "outputs": [],
   "source": [
    "def get_player_usage(year: int) -> pd.DataFrame:\n",
    "    url = f\"{BASE_URL}/player/usage\"\n",
    "    params = {\"year\": year}\n",
    "    r = requests.get(url, headers=HEADERS, params=params)\n",
    "    df = pd.DataFrame(r.json())\n",
    "    \n",
    "    # Expand nested \"usage\" dictionary into columns\n",
    "    usage_df = df.drop(columns=[\"usage\"]).join(pd.json_normalize(df[\"usage\"]))\n",
    "    return usage_df\n"
   ]
  },
  {
   "cell_type": "code",
   "execution_count": null,
   "id": "d6b44ddf",
   "metadata": {},
   "outputs": [],
   "source": [
    "def normalize_stats(season_stats, usage_stats):\n",
    "    df = season_stats.merge(usage_stats, left_on=[\"playerId\", \"season\"], right_on=[\"id\", \"season\"], how=\"left\")\n",
    "    \n",
    "    # Example normalizations\n",
    "    if \"overall\" in df:\n",
    "        df[\"yards_per_snap\"] = df[\"receivingYards\"] / df[\"overall\"]\n",
    "        df[\"tds_per_snap\"] = (df[\"receivingTDs\"] + df[\"rushingTDs\"] + df[\"passingTDs\"]) / df[\"overall\"]\n",
    "    \n",
    "    # Per game as fallback\n",
    "    if \"games\" in df:\n",
    "        df[\"yards_per_game\"] = df[\"receivingYards\"] / df[\"games\"]\n",
    "    \n",
    "    return df\n"
   ]
  },
  {
   "cell_type": "code",
   "execution_count": null,
   "id": "c5158871",
   "metadata": {},
   "outputs": [
    {
     "ename": "TypeError",
     "evalue": "string indices must be integers, not 'str'",
     "output_type": "error",
     "traceback": [
      "\u001b[31m---------------------------------------------------------------------------\u001b[39m",
      "\u001b[31mTypeError\u001b[39m                                 Traceback (most recent call last)",
      "\u001b[36mCell\u001b[39m\u001b[36m \u001b[39m\u001b[32mIn[85]\u001b[39m\u001b[32m, line 5\u001b[39m\n\u001b[32m      2\u001b[39m players = [\u001b[33m\"\u001b[39m\u001b[33mMarvin Harrison Jr\u001b[39m\u001b[33m\"\u001b[39m, \u001b[33m\"\u001b[39m\u001b[33mBrock Bowers\u001b[39m\u001b[33m\"\u001b[39m]\n\u001b[32m      3\u001b[39m year = \u001b[32m2023\u001b[39m\n\u001b[32m----> \u001b[39m\u001b[32m5\u001b[39m season_stats = \u001b[43mget_player_season_stats\u001b[49m\u001b[43m(\u001b[49m\u001b[43myear\u001b[49m\u001b[43m)\u001b[49m\n\u001b[32m      6\u001b[39m usage_stats = get_player_usage(year)\n\u001b[32m      8\u001b[39m \u001b[38;5;66;03m# Filter to your players of interest\u001b[39;00m\n",
      "\u001b[36mCell\u001b[39m\u001b[36m \u001b[39m\u001b[32mIn[82]\u001b[39m\u001b[32m, line 12\u001b[39m, in \u001b[36mget_player_season_stats\u001b[39m\u001b[34m(year, team, position)\u001b[39m\n\u001b[32m      9\u001b[39m df = pd.DataFrame(r.json())\n\u001b[32m     11\u001b[39m \u001b[38;5;66;03m# Flatten nested player info\u001b[39;00m\n\u001b[32m---> \u001b[39m\u001b[32m12\u001b[39m df[\u001b[33m\"\u001b[39m\u001b[33mplayer_name\u001b[39m\u001b[33m\"\u001b[39m] = \u001b[43mdf\u001b[49m\u001b[43m[\u001b[49m\u001b[33;43m\"\u001b[39;49m\u001b[33;43mplayer\u001b[39;49m\u001b[33;43m\"\u001b[39;49m\u001b[43m]\u001b[49m\u001b[43m.\u001b[49m\u001b[43mapply\u001b[49m\u001b[43m(\u001b[49m\u001b[38;5;28;43;01mlambda\u001b[39;49;00m\u001b[43m \u001b[49m\u001b[43mx\u001b[49m\u001b[43m:\u001b[49m\u001b[43m \u001b[49m\u001b[33;43mf\u001b[39;49m\u001b[33;43m\"\u001b[39;49m\u001b[38;5;132;43;01m{\u001b[39;49;00m\u001b[43mx\u001b[49m\u001b[43m[\u001b[49m\u001b[33;43m'\u001b[39;49m\u001b[33;43mfirst_name\u001b[39;49m\u001b[33;43m'\u001b[39;49m\u001b[43m]\u001b[49m\u001b[38;5;132;43;01m}\u001b[39;49;00m\u001b[33;43m \u001b[39;49m\u001b[38;5;132;43;01m{\u001b[39;49;00m\u001b[43mx\u001b[49m\u001b[43m[\u001b[49m\u001b[33;43m'\u001b[39;49m\u001b[33;43mlast_name\u001b[39;49m\u001b[33;43m'\u001b[39;49m\u001b[43m]\u001b[49m\u001b[38;5;132;43;01m}\u001b[39;49;00m\u001b[33;43m\"\u001b[39;49m\u001b[43m)\u001b[49m\n\u001b[32m     13\u001b[39m df[\u001b[33m\"\u001b[39m\u001b[33mplayer_id\u001b[39m\u001b[33m\"\u001b[39m] = df[\u001b[33m\"\u001b[39m\u001b[33mplayer\u001b[39m\u001b[33m\"\u001b[39m].apply(\u001b[38;5;28;01mlambda\u001b[39;00m x: x[\u001b[33m\"\u001b[39m\u001b[33mid\u001b[39m\u001b[33m\"\u001b[39m])\n\u001b[32m     14\u001b[39m df[\u001b[33m\"\u001b[39m\u001b[33mteam\u001b[39m\u001b[33m\"\u001b[39m] = df[\u001b[33m\"\u001b[39m\u001b[33mteam\u001b[39m\u001b[33m\"\u001b[39m].apply(\u001b[38;5;28;01mlambda\u001b[39;00m x: x[\u001b[33m\"\u001b[39m\u001b[33mschool\u001b[39m\u001b[33m\"\u001b[39m] \u001b[38;5;28;01mif\u001b[39;00m \u001b[38;5;28misinstance\u001b[39m(x, \u001b[38;5;28mdict\u001b[39m) \u001b[38;5;28;01melse\u001b[39;00m x)\n",
      "\u001b[36mFile \u001b[39m\u001b[32mc:\\Users\\nloug\\OneDrive - University of Waterloo\\Fantasy_football_name_generation\\Rookie_fantasy_prediction\\Fantasy-Football-Rookie-Predictions\\nfl_env\\Lib\\site-packages\\pandas\\core\\series.py:4771\u001b[39m, in \u001b[36mSeries.apply\u001b[39m\u001b[34m(self, func, convert_dtype, args, **kwargs)\u001b[39m\n\u001b[32m   4661\u001b[39m \u001b[38;5;28;01mdef\u001b[39;00m\u001b[38;5;250m \u001b[39m\u001b[34mapply\u001b[39m(\n\u001b[32m   4662\u001b[39m     \u001b[38;5;28mself\u001b[39m,\n\u001b[32m   4663\u001b[39m     func: AggFuncType,\n\u001b[32m   (...)\u001b[39m\u001b[32m   4666\u001b[39m     **kwargs,\n\u001b[32m   4667\u001b[39m ) -> DataFrame | Series:\n\u001b[32m   4668\u001b[39m \u001b[38;5;250m    \u001b[39m\u001b[33;03m\"\"\"\u001b[39;00m\n\u001b[32m   4669\u001b[39m \u001b[33;03m    Invoke function on values of Series.\u001b[39;00m\n\u001b[32m   4670\u001b[39m \n\u001b[32m   (...)\u001b[39m\u001b[32m   4769\u001b[39m \u001b[33;03m    dtype: float64\u001b[39;00m\n\u001b[32m   4770\u001b[39m \u001b[33;03m    \"\"\"\u001b[39;00m\n\u001b[32m-> \u001b[39m\u001b[32m4771\u001b[39m     \u001b[38;5;28;01mreturn\u001b[39;00m \u001b[43mSeriesApply\u001b[49m\u001b[43m(\u001b[49m\u001b[38;5;28;43mself\u001b[39;49m\u001b[43m,\u001b[49m\u001b[43m \u001b[49m\u001b[43mfunc\u001b[49m\u001b[43m,\u001b[49m\u001b[43m \u001b[49m\u001b[43mconvert_dtype\u001b[49m\u001b[43m,\u001b[49m\u001b[43m \u001b[49m\u001b[43margs\u001b[49m\u001b[43m,\u001b[49m\u001b[43m \u001b[49m\u001b[43mkwargs\u001b[49m\u001b[43m)\u001b[49m\u001b[43m.\u001b[49m\u001b[43mapply\u001b[49m\u001b[43m(\u001b[49m\u001b[43m)\u001b[49m\n",
      "\u001b[36mFile \u001b[39m\u001b[32mc:\\Users\\nloug\\OneDrive - University of Waterloo\\Fantasy_football_name_generation\\Rookie_fantasy_prediction\\Fantasy-Football-Rookie-Predictions\\nfl_env\\Lib\\site-packages\\pandas\\core\\apply.py:1123\u001b[39m, in \u001b[36mSeriesApply.apply\u001b[39m\u001b[34m(self)\u001b[39m\n\u001b[32m   1120\u001b[39m     \u001b[38;5;28;01mreturn\u001b[39;00m \u001b[38;5;28mself\u001b[39m.apply_str()\n\u001b[32m   1122\u001b[39m \u001b[38;5;66;03m# self.f is Callable\u001b[39;00m\n\u001b[32m-> \u001b[39m\u001b[32m1123\u001b[39m \u001b[38;5;28;01mreturn\u001b[39;00m \u001b[38;5;28;43mself\u001b[39;49m\u001b[43m.\u001b[49m\u001b[43mapply_standard\u001b[49m\u001b[43m(\u001b[49m\u001b[43m)\u001b[49m\n",
      "\u001b[36mFile \u001b[39m\u001b[32mc:\\Users\\nloug\\OneDrive - University of Waterloo\\Fantasy_football_name_generation\\Rookie_fantasy_prediction\\Fantasy-Football-Rookie-Predictions\\nfl_env\\Lib\\site-packages\\pandas\\core\\apply.py:1174\u001b[39m, in \u001b[36mSeriesApply.apply_standard\u001b[39m\u001b[34m(self)\u001b[39m\n\u001b[32m   1172\u001b[39m     \u001b[38;5;28;01melse\u001b[39;00m:\n\u001b[32m   1173\u001b[39m         values = obj.astype(\u001b[38;5;28mobject\u001b[39m)._values\n\u001b[32m-> \u001b[39m\u001b[32m1174\u001b[39m         mapped = \u001b[43mlib\u001b[49m\u001b[43m.\u001b[49m\u001b[43mmap_infer\u001b[49m\u001b[43m(\u001b[49m\n\u001b[32m   1175\u001b[39m \u001b[43m            \u001b[49m\u001b[43mvalues\u001b[49m\u001b[43m,\u001b[49m\n\u001b[32m   1176\u001b[39m \u001b[43m            \u001b[49m\u001b[43mf\u001b[49m\u001b[43m,\u001b[49m\n\u001b[32m   1177\u001b[39m \u001b[43m            \u001b[49m\u001b[43mconvert\u001b[49m\u001b[43m=\u001b[49m\u001b[38;5;28;43mself\u001b[39;49m\u001b[43m.\u001b[49m\u001b[43mconvert_dtype\u001b[49m\u001b[43m,\u001b[49m\n\u001b[32m   1178\u001b[39m \u001b[43m        \u001b[49m\u001b[43m)\u001b[49m\n\u001b[32m   1180\u001b[39m \u001b[38;5;28;01mif\u001b[39;00m \u001b[38;5;28mlen\u001b[39m(mapped) \u001b[38;5;129;01mand\u001b[39;00m \u001b[38;5;28misinstance\u001b[39m(mapped[\u001b[32m0\u001b[39m], ABCSeries):\n\u001b[32m   1181\u001b[39m     \u001b[38;5;66;03m# GH#43986 Need to do list(mapped) in order to get treated as nested\u001b[39;00m\n\u001b[32m   1182\u001b[39m     \u001b[38;5;66;03m#  See also GH#25959 regarding EA support\u001b[39;00m\n\u001b[32m   1183\u001b[39m     \u001b[38;5;28;01mreturn\u001b[39;00m obj._constructor_expanddim(\u001b[38;5;28mlist\u001b[39m(mapped), index=obj.index)\n",
      "\u001b[36mFile \u001b[39m\u001b[32mc:\\Users\\nloug\\OneDrive - University of Waterloo\\Fantasy_football_name_generation\\Rookie_fantasy_prediction\\Fantasy-Football-Rookie-Predictions\\nfl_env\\Lib\\site-packages\\pandas\\_libs\\lib.pyx:2924\u001b[39m, in \u001b[36mpandas._libs.lib.map_infer\u001b[39m\u001b[34m()\u001b[39m\n",
      "\u001b[36mCell\u001b[39m\u001b[36m \u001b[39m\u001b[32mIn[82]\u001b[39m\u001b[32m, line 12\u001b[39m, in \u001b[36mget_player_season_stats.<locals>.<lambda>\u001b[39m\u001b[34m(x)\u001b[39m\n\u001b[32m      9\u001b[39m df = pd.DataFrame(r.json())\n\u001b[32m     11\u001b[39m \u001b[38;5;66;03m# Flatten nested player info\u001b[39;00m\n\u001b[32m---> \u001b[39m\u001b[32m12\u001b[39m df[\u001b[33m\"\u001b[39m\u001b[33mplayer_name\u001b[39m\u001b[33m\"\u001b[39m] = df[\u001b[33m\"\u001b[39m\u001b[33mplayer\u001b[39m\u001b[33m\"\u001b[39m].apply(\u001b[38;5;28;01mlambda\u001b[39;00m x: \u001b[33mf\u001b[39m\u001b[33m\"\u001b[39m\u001b[38;5;132;01m{\u001b[39;00m\u001b[43mx\u001b[49m\u001b[43m[\u001b[49m\u001b[33;43m'\u001b[39;49m\u001b[33;43mfirst_name\u001b[39;49m\u001b[33;43m'\u001b[39;49m\u001b[43m]\u001b[49m\u001b[38;5;132;01m}\u001b[39;00m\u001b[33m \u001b[39m\u001b[38;5;132;01m{\u001b[39;00mx[\u001b[33m'\u001b[39m\u001b[33mlast_name\u001b[39m\u001b[33m'\u001b[39m]\u001b[38;5;132;01m}\u001b[39;00m\u001b[33m\"\u001b[39m)\n\u001b[32m     13\u001b[39m df[\u001b[33m\"\u001b[39m\u001b[33mplayer_id\u001b[39m\u001b[33m\"\u001b[39m] = df[\u001b[33m\"\u001b[39m\u001b[33mplayer\u001b[39m\u001b[33m\"\u001b[39m].apply(\u001b[38;5;28;01mlambda\u001b[39;00m x: x[\u001b[33m\"\u001b[39m\u001b[33mid\u001b[39m\u001b[33m\"\u001b[39m])\n\u001b[32m     14\u001b[39m df[\u001b[33m\"\u001b[39m\u001b[33mteam\u001b[39m\u001b[33m\"\u001b[39m] = df[\u001b[33m\"\u001b[39m\u001b[33mteam\u001b[39m\u001b[33m\"\u001b[39m].apply(\u001b[38;5;28;01mlambda\u001b[39;00m x: x[\u001b[33m\"\u001b[39m\u001b[33mschool\u001b[39m\u001b[33m\"\u001b[39m] \u001b[38;5;28;01mif\u001b[39;00m \u001b[38;5;28misinstance\u001b[39m(x, \u001b[38;5;28mdict\u001b[39m) \u001b[38;5;28;01melse\u001b[39;00m x)\n",
      "\u001b[31mTypeError\u001b[39m: string indices must be integers, not 'str'"
     ]
    }
   ],
   "source": [
    "# usage\n",
    "players = [\"Marvin Harrison Jr\", \"Brock Bowers\"]\n",
    "year = 2023\n",
    "\n",
    "season_stats = get_player_season_stats(year)\n",
    "usage_stats = get_player_usage(year)\n",
    "\n",
    "# Filter to your players of interest\n",
    "season_stats = season_stats[season_stats[\"player_name\"].isin(players)]\n",
    "\n",
    "# Normalize\n",
    "final_df = normalize_player_stats(season_stats, usage_stats)\n",
    "print(final_df.head())"
   ]
  }
 ],
 "metadata": {
  "kernelspec": {
   "display_name": "nfl_env (3.12.0)",
   "language": "python",
   "name": "python3"
  },
  "language_info": {
   "codemirror_mode": {
    "name": "ipython",
    "version": 3
   },
   "file_extension": ".py",
   "mimetype": "text/x-python",
   "name": "python",
   "nbconvert_exporter": "python",
   "pygments_lexer": "ipython3",
   "version": "3.12.0"
  }
 },
 "nbformat": 4,
 "nbformat_minor": 5
}
